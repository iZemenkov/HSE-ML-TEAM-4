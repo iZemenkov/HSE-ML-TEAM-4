{
  "cells": [
    {
      "cell_type": "markdown",
      "metadata": {
        "id": "view-in-github",
        "colab_type": "text"
      },
      "source": [
        "<a href=\"https://colab.research.google.com/github/kirillkobychev/HSE-ML-TEAM-4/blob/kirill-dev/Project_Music_genre_prediction.ipynb\" target=\"_parent\"><img src=\"https://colab.research.google.com/assets/colab-badge.svg\" alt=\"Open In Colab\"/></a>"
      ]
    },
    {
      "cell_type": "markdown",
      "metadata": {
        "id": "UzskdJLJG6-B"
      },
      "source": [
        "# Music genre prediction"
      ]
    },
    {
      "cell_type": "markdown",
      "metadata": {
        "id": "VEmvv_QjG_VK"
      },
      "source": [
        "**Описание задачи**\n",
        "\n",
        "Вы сотрудник Отдела Data Science популярного музыкального стримингового сервиса. Сервис расширяет работу с новыми артистами и музыкантами, в связи с чем возникла задача -- правильно классифицировать новые музыкальные треки, чтобы улучшить работу рекомендательной системы. Ваши коллеги из отдела работы со звуком подготовили датасет, в котором собраны некоторые характеристики музыкальных произведений и их жанры. Ваша задача - разработать модель, позволяющую классифицировать музыкальные произведения по жанрам."
      ]
    },
    {
      "cell_type": "markdown",
      "source": [
        "В ходе работы пройдите все основные этапы полноценного исследования:\n",
        "\n",
        "*  загрузка и ознакомление с данными\n",
        "*  предварительная обработка\n",
        "*  полноценный разведочный анализ\n",
        "*  разработка новых синтетических признаков\n",
        "*  проверка на мультиколлинеарность\n",
        "*  отбор финального набора обучающих признаков\n",
        "*  выбор и обучение моделей\n",
        "*  итоговая оценка качества предсказания лучшей модели\n",
        "*  анализ важности ее признаков\n",
        "\n",
        "**ВАЖНО**  \n",
        "Необходимо реализовать решение с использованием технологии `pipeline` (из библиотеки `sklearn`)"
      ],
      "metadata": {
        "id": "n2eyK2PYgTUx"
      }
    },
    {
      "cell_type": "markdown",
      "source": [
        "**ОЖИДАЕМЫЙ РЕЗУЛЬТАТ**\n",
        "\n",
        "* Оформленный репозиторий на GitHub (ноутбук с исследованием + код приложения)\n",
        "* Развернутое web-приложение (с использованием библиотеки Streamlit)"
      ],
      "metadata": {
        "id": "cKiE8GeWiuk6"
      }
    },
    {
      "cell_type": "markdown",
      "source": [
        "## Участники проекта, репозиторий, приложение"
      ],
      "metadata": {
        "id": "vjyDN19upagN"
      }
    },
    {
      "cell_type": "markdown",
      "source": [
        "Кобычев Кирилл, @hikoby"
      ],
      "metadata": {
        "id": "Fc7hKssHphI5"
      }
    },
    {
      "cell_type": "markdown",
      "source": [
        "Иванов Егор, @Jaibesiondaide"
      ],
      "metadata": {
        "id": "JXbgFQ4XpsRY"
      }
    },
    {
      "cell_type": "markdown",
      "source": [
        "Игорь Земенков, @iZemM"
      ],
      "metadata": {
        "id": "UjfYpv2g7vWq"
      }
    },
    {
      "cell_type": "markdown",
      "source": [
        "https://github.com/kirillkobychev/HSE-ML-TEAM-4"
      ],
      "metadata": {
        "id": "9oPtdaKx71Oy"
      }
    },
    {
      "cell_type": "markdown",
      "metadata": {
        "id": "upi7CiS5HGqL"
      },
      "source": [
        "## Импорт библиотек, установка констант"
      ]
    },
    {
      "cell_type": "code",
      "execution_count": 76,
      "metadata": {
        "id": "SsOojBMIIWJ5"
      },
      "outputs": [],
      "source": [
        "%%capture\n",
        "!pip install catboost -q\n",
        "!pip install ydata-profiling"
      ]
    },
    {
      "cell_type": "code",
      "execution_count": 77,
      "metadata": {
        "id": "m6qnUHR9G5Ld"
      },
      "outputs": [],
      "source": [
        "import pandas as pd\n",
        "import numpy as np\n",
        "\n",
        "from sklearn.model_selection import train_test_split\n",
        "from sklearn.metrics import f1_score\n",
        "from catboost import CatBoostClassifier\n",
        "\n",
        "from ydata_profiling import ProfileReport"
      ]
    },
    {
      "cell_type": "code",
      "execution_count": 78,
      "metadata": {
        "id": "lDS-n392MZiL"
      },
      "outputs": [],
      "source": [
        "TRAIN = \"https://www.dropbox.com/scl/fi/5zy935lqpaqr9lat76ung/music_genre_train.csv?rlkey=ccovu9ml8pfi9whk1ba26zdda&dl=1\"\n",
        "TEST = \"https://www.dropbox.com/scl/fi/o6mvsowpp9r3k2lejuegt/music_genre_test.csv?rlkey=ac14ydue0rzlh880jwj3ebum4&dl=1\""
      ]
    },
    {
      "cell_type": "code",
      "execution_count": 79,
      "metadata": {
        "id": "CHWpPqWyRkBp"
      },
      "outputs": [],
      "source": [
        "RANDOM_STATE = 42\n",
        "TEST_SIZE = 0.25"
      ]
    },
    {
      "cell_type": "markdown",
      "metadata": {
        "id": "2KtnoyfHNIVT"
      },
      "source": [
        "## Загрузка и обзор данных"
      ]
    },
    {
      "cell_type": "code",
      "execution_count": 80,
      "metadata": {
        "id": "S7wsfpGRNKG3"
      },
      "outputs": [],
      "source": [
        "train = pd.read_csv(TRAIN)\n",
        "test = pd.read_csv(TEST)"
      ]
    },
    {
      "cell_type": "code",
      "execution_count": 81,
      "metadata": {
        "colab": {
          "base_uri": "https://localhost:8080/",
          "height": 365
        },
        "id": "loLY3GVFN5jI",
        "outputId": "9a830956-33c6-4ab2-9608-04ba9969ae67"
      },
      "outputs": [
        {
          "output_type": "execute_result",
          "data": {
            "text/plain": [
              "       instance_id                                         track_name  \\\n",
              "1450       63047.0                Europa (Earth's Cry Heaven's Smile)   \n",
              "19377      82959.0                                   Mind Over Matter   \n",
              "18061      35751.0  St. John Passion, BWV 245, Pt. 1: No. 2c, Jesu...   \n",
              "12943      49737.0                                          Ol' Glory   \n",
              "7980       83679.0                                               VIBE   \n",
              "\n",
              "       acousticness  danceability  duration_ms  energy  instrumentalness key  \\\n",
              "1450       0.030000         0.296     305947.0  0.6690          0.831000   C   \n",
              "19377      0.018300         0.650         -1.0  0.6110          0.122000  C#   \n",
              "18061      0.831000         0.402      32831.0  0.0956          0.000000   D   \n",
              "12943      0.000749         0.566     452333.0  0.8870          0.008230   D   \n",
              "7980       0.114000         0.829     245724.0  0.7790          0.000004  C#   \n",
              "\n",
              "       liveness  loudness   mode  speechiness    tempo obtained_date  valence  \\\n",
              "1450     0.1540    -5.364  Minor       0.0452   74.692         4-Apr    0.679   \n",
              "19377    0.0754    -6.877  Major       0.2570  127.966         4-Apr    0.190   \n",
              "18061    0.4000   -24.119  Major       0.0660   99.077         4-Apr    0.608   \n",
              "12943    0.0708    -6.203  Major       0.0614  114.178         4-Apr    0.799   \n",
              "7980     0.0534    -5.722  Minor       0.2190  126.039         4-Apr    0.539   \n",
              "\n",
              "      music_genre  \n",
              "1450         Rock  \n",
              "19377  Electronic  \n",
              "18061   Classical  \n",
              "12943       Blues  \n",
              "7980   Electronic  "
            ],
            "text/html": [
              "\n",
              "  <div id=\"df-56904c70-79c1-4600-a930-2001471c1127\" class=\"colab-df-container\">\n",
              "    <div>\n",
              "<style scoped>\n",
              "    .dataframe tbody tr th:only-of-type {\n",
              "        vertical-align: middle;\n",
              "    }\n",
              "\n",
              "    .dataframe tbody tr th {\n",
              "        vertical-align: top;\n",
              "    }\n",
              "\n",
              "    .dataframe thead th {\n",
              "        text-align: right;\n",
              "    }\n",
              "</style>\n",
              "<table border=\"1\" class=\"dataframe\">\n",
              "  <thead>\n",
              "    <tr style=\"text-align: right;\">\n",
              "      <th></th>\n",
              "      <th>instance_id</th>\n",
              "      <th>track_name</th>\n",
              "      <th>acousticness</th>\n",
              "      <th>danceability</th>\n",
              "      <th>duration_ms</th>\n",
              "      <th>energy</th>\n",
              "      <th>instrumentalness</th>\n",
              "      <th>key</th>\n",
              "      <th>liveness</th>\n",
              "      <th>loudness</th>\n",
              "      <th>mode</th>\n",
              "      <th>speechiness</th>\n",
              "      <th>tempo</th>\n",
              "      <th>obtained_date</th>\n",
              "      <th>valence</th>\n",
              "      <th>music_genre</th>\n",
              "    </tr>\n",
              "  </thead>\n",
              "  <tbody>\n",
              "    <tr>\n",
              "      <th>1450</th>\n",
              "      <td>63047.0</td>\n",
              "      <td>Europa (Earth's Cry Heaven's Smile)</td>\n",
              "      <td>0.030000</td>\n",
              "      <td>0.296</td>\n",
              "      <td>305947.0</td>\n",
              "      <td>0.6690</td>\n",
              "      <td>0.831000</td>\n",
              "      <td>C</td>\n",
              "      <td>0.1540</td>\n",
              "      <td>-5.364</td>\n",
              "      <td>Minor</td>\n",
              "      <td>0.0452</td>\n",
              "      <td>74.692</td>\n",
              "      <td>4-Apr</td>\n",
              "      <td>0.679</td>\n",
              "      <td>Rock</td>\n",
              "    </tr>\n",
              "    <tr>\n",
              "      <th>19377</th>\n",
              "      <td>82959.0</td>\n",
              "      <td>Mind Over Matter</td>\n",
              "      <td>0.018300</td>\n",
              "      <td>0.650</td>\n",
              "      <td>-1.0</td>\n",
              "      <td>0.6110</td>\n",
              "      <td>0.122000</td>\n",
              "      <td>C#</td>\n",
              "      <td>0.0754</td>\n",
              "      <td>-6.877</td>\n",
              "      <td>Major</td>\n",
              "      <td>0.2570</td>\n",
              "      <td>127.966</td>\n",
              "      <td>4-Apr</td>\n",
              "      <td>0.190</td>\n",
              "      <td>Electronic</td>\n",
              "    </tr>\n",
              "    <tr>\n",
              "      <th>18061</th>\n",
              "      <td>35751.0</td>\n",
              "      <td>St. John Passion, BWV 245, Pt. 1: No. 2c, Jesu...</td>\n",
              "      <td>0.831000</td>\n",
              "      <td>0.402</td>\n",
              "      <td>32831.0</td>\n",
              "      <td>0.0956</td>\n",
              "      <td>0.000000</td>\n",
              "      <td>D</td>\n",
              "      <td>0.4000</td>\n",
              "      <td>-24.119</td>\n",
              "      <td>Major</td>\n",
              "      <td>0.0660</td>\n",
              "      <td>99.077</td>\n",
              "      <td>4-Apr</td>\n",
              "      <td>0.608</td>\n",
              "      <td>Classical</td>\n",
              "    </tr>\n",
              "    <tr>\n",
              "      <th>12943</th>\n",
              "      <td>49737.0</td>\n",
              "      <td>Ol' Glory</td>\n",
              "      <td>0.000749</td>\n",
              "      <td>0.566</td>\n",
              "      <td>452333.0</td>\n",
              "      <td>0.8870</td>\n",
              "      <td>0.008230</td>\n",
              "      <td>D</td>\n",
              "      <td>0.0708</td>\n",
              "      <td>-6.203</td>\n",
              "      <td>Major</td>\n",
              "      <td>0.0614</td>\n",
              "      <td>114.178</td>\n",
              "      <td>4-Apr</td>\n",
              "      <td>0.799</td>\n",
              "      <td>Blues</td>\n",
              "    </tr>\n",
              "    <tr>\n",
              "      <th>7980</th>\n",
              "      <td>83679.0</td>\n",
              "      <td>VIBE</td>\n",
              "      <td>0.114000</td>\n",
              "      <td>0.829</td>\n",
              "      <td>245724.0</td>\n",
              "      <td>0.7790</td>\n",
              "      <td>0.000004</td>\n",
              "      <td>C#</td>\n",
              "      <td>0.0534</td>\n",
              "      <td>-5.722</td>\n",
              "      <td>Minor</td>\n",
              "      <td>0.2190</td>\n",
              "      <td>126.039</td>\n",
              "      <td>4-Apr</td>\n",
              "      <td>0.539</td>\n",
              "      <td>Electronic</td>\n",
              "    </tr>\n",
              "  </tbody>\n",
              "</table>\n",
              "</div>\n",
              "    <div class=\"colab-df-buttons\">\n",
              "\n",
              "  <div class=\"colab-df-container\">\n",
              "    <button class=\"colab-df-convert\" onclick=\"convertToInteractive('df-56904c70-79c1-4600-a930-2001471c1127')\"\n",
              "            title=\"Convert this dataframe to an interactive table.\"\n",
              "            style=\"display:none;\">\n",
              "\n",
              "  <svg xmlns=\"http://www.w3.org/2000/svg\" height=\"24px\" viewBox=\"0 -960 960 960\">\n",
              "    <path d=\"M120-120v-720h720v720H120Zm60-500h600v-160H180v160Zm220 220h160v-160H400v160Zm0 220h160v-160H400v160ZM180-400h160v-160H180v160Zm440 0h160v-160H620v160ZM180-180h160v-160H180v160Zm440 0h160v-160H620v160Z\"/>\n",
              "  </svg>\n",
              "    </button>\n",
              "\n",
              "  <style>\n",
              "    .colab-df-container {\n",
              "      display:flex;\n",
              "      gap: 12px;\n",
              "    }\n",
              "\n",
              "    .colab-df-convert {\n",
              "      background-color: #E8F0FE;\n",
              "      border: none;\n",
              "      border-radius: 50%;\n",
              "      cursor: pointer;\n",
              "      display: none;\n",
              "      fill: #1967D2;\n",
              "      height: 32px;\n",
              "      padding: 0 0 0 0;\n",
              "      width: 32px;\n",
              "    }\n",
              "\n",
              "    .colab-df-convert:hover {\n",
              "      background-color: #E2EBFA;\n",
              "      box-shadow: 0px 1px 2px rgba(60, 64, 67, 0.3), 0px 1px 3px 1px rgba(60, 64, 67, 0.15);\n",
              "      fill: #174EA6;\n",
              "    }\n",
              "\n",
              "    .colab-df-buttons div {\n",
              "      margin-bottom: 4px;\n",
              "    }\n",
              "\n",
              "    [theme=dark] .colab-df-convert {\n",
              "      background-color: #3B4455;\n",
              "      fill: #D2E3FC;\n",
              "    }\n",
              "\n",
              "    [theme=dark] .colab-df-convert:hover {\n",
              "      background-color: #434B5C;\n",
              "      box-shadow: 0px 1px 3px 1px rgba(0, 0, 0, 0.15);\n",
              "      filter: drop-shadow(0px 1px 2px rgba(0, 0, 0, 0.3));\n",
              "      fill: #FFFFFF;\n",
              "    }\n",
              "  </style>\n",
              "\n",
              "    <script>\n",
              "      const buttonEl =\n",
              "        document.querySelector('#df-56904c70-79c1-4600-a930-2001471c1127 button.colab-df-convert');\n",
              "      buttonEl.style.display =\n",
              "        google.colab.kernel.accessAllowed ? 'block' : 'none';\n",
              "\n",
              "      async function convertToInteractive(key) {\n",
              "        const element = document.querySelector('#df-56904c70-79c1-4600-a930-2001471c1127');\n",
              "        const dataTable =\n",
              "          await google.colab.kernel.invokeFunction('convertToInteractive',\n",
              "                                                    [key], {});\n",
              "        if (!dataTable) return;\n",
              "\n",
              "        const docLinkHtml = 'Like what you see? Visit the ' +\n",
              "          '<a target=\"_blank\" href=https://colab.research.google.com/notebooks/data_table.ipynb>data table notebook</a>'\n",
              "          + ' to learn more about interactive tables.';\n",
              "        element.innerHTML = '';\n",
              "        dataTable['output_type'] = 'display_data';\n",
              "        await google.colab.output.renderOutput(dataTable, element);\n",
              "        const docLink = document.createElement('div');\n",
              "        docLink.innerHTML = docLinkHtml;\n",
              "        element.appendChild(docLink);\n",
              "      }\n",
              "    </script>\n",
              "  </div>\n",
              "\n",
              "\n",
              "    <div id=\"df-87963dfc-b667-43cc-8f44-70b754bd651c\">\n",
              "      <button class=\"colab-df-quickchart\" onclick=\"quickchart('df-87963dfc-b667-43cc-8f44-70b754bd651c')\"\n",
              "                title=\"Suggest charts\"\n",
              "                style=\"display:none;\">\n",
              "\n",
              "<svg xmlns=\"http://www.w3.org/2000/svg\" height=\"24px\"viewBox=\"0 0 24 24\"\n",
              "     width=\"24px\">\n",
              "    <g>\n",
              "        <path d=\"M19 3H5c-1.1 0-2 .9-2 2v14c0 1.1.9 2 2 2h14c1.1 0 2-.9 2-2V5c0-1.1-.9-2-2-2zM9 17H7v-7h2v7zm4 0h-2V7h2v10zm4 0h-2v-4h2v4z\"/>\n",
              "    </g>\n",
              "</svg>\n",
              "      </button>\n",
              "\n",
              "<style>\n",
              "  .colab-df-quickchart {\n",
              "      --bg-color: #E8F0FE;\n",
              "      --fill-color: #1967D2;\n",
              "      --hover-bg-color: #E2EBFA;\n",
              "      --hover-fill-color: #174EA6;\n",
              "      --disabled-fill-color: #AAA;\n",
              "      --disabled-bg-color: #DDD;\n",
              "  }\n",
              "\n",
              "  [theme=dark] .colab-df-quickchart {\n",
              "      --bg-color: #3B4455;\n",
              "      --fill-color: #D2E3FC;\n",
              "      --hover-bg-color: #434B5C;\n",
              "      --hover-fill-color: #FFFFFF;\n",
              "      --disabled-bg-color: #3B4455;\n",
              "      --disabled-fill-color: #666;\n",
              "  }\n",
              "\n",
              "  .colab-df-quickchart {\n",
              "    background-color: var(--bg-color);\n",
              "    border: none;\n",
              "    border-radius: 50%;\n",
              "    cursor: pointer;\n",
              "    display: none;\n",
              "    fill: var(--fill-color);\n",
              "    height: 32px;\n",
              "    padding: 0;\n",
              "    width: 32px;\n",
              "  }\n",
              "\n",
              "  .colab-df-quickchart:hover {\n",
              "    background-color: var(--hover-bg-color);\n",
              "    box-shadow: 0 1px 2px rgba(60, 64, 67, 0.3), 0 1px 3px 1px rgba(60, 64, 67, 0.15);\n",
              "    fill: var(--button-hover-fill-color);\n",
              "  }\n",
              "\n",
              "  .colab-df-quickchart-complete:disabled,\n",
              "  .colab-df-quickchart-complete:disabled:hover {\n",
              "    background-color: var(--disabled-bg-color);\n",
              "    fill: var(--disabled-fill-color);\n",
              "    box-shadow: none;\n",
              "  }\n",
              "\n",
              "  .colab-df-spinner {\n",
              "    border: 2px solid var(--fill-color);\n",
              "    border-color: transparent;\n",
              "    border-bottom-color: var(--fill-color);\n",
              "    animation:\n",
              "      spin 1s steps(1) infinite;\n",
              "  }\n",
              "\n",
              "  @keyframes spin {\n",
              "    0% {\n",
              "      border-color: transparent;\n",
              "      border-bottom-color: var(--fill-color);\n",
              "      border-left-color: var(--fill-color);\n",
              "    }\n",
              "    20% {\n",
              "      border-color: transparent;\n",
              "      border-left-color: var(--fill-color);\n",
              "      border-top-color: var(--fill-color);\n",
              "    }\n",
              "    30% {\n",
              "      border-color: transparent;\n",
              "      border-left-color: var(--fill-color);\n",
              "      border-top-color: var(--fill-color);\n",
              "      border-right-color: var(--fill-color);\n",
              "    }\n",
              "    40% {\n",
              "      border-color: transparent;\n",
              "      border-right-color: var(--fill-color);\n",
              "      border-top-color: var(--fill-color);\n",
              "    }\n",
              "    60% {\n",
              "      border-color: transparent;\n",
              "      border-right-color: var(--fill-color);\n",
              "    }\n",
              "    80% {\n",
              "      border-color: transparent;\n",
              "      border-right-color: var(--fill-color);\n",
              "      border-bottom-color: var(--fill-color);\n",
              "    }\n",
              "    90% {\n",
              "      border-color: transparent;\n",
              "      border-bottom-color: var(--fill-color);\n",
              "    }\n",
              "  }\n",
              "</style>\n",
              "\n",
              "      <script>\n",
              "        async function quickchart(key) {\n",
              "          const quickchartButtonEl =\n",
              "            document.querySelector('#' + key + ' button');\n",
              "          quickchartButtonEl.disabled = true;  // To prevent multiple clicks.\n",
              "          quickchartButtonEl.classList.add('colab-df-spinner');\n",
              "          try {\n",
              "            const charts = await google.colab.kernel.invokeFunction(\n",
              "                'suggestCharts', [key], {});\n",
              "          } catch (error) {\n",
              "            console.error('Error during call to suggestCharts:', error);\n",
              "          }\n",
              "          quickchartButtonEl.classList.remove('colab-df-spinner');\n",
              "          quickchartButtonEl.classList.add('colab-df-quickchart-complete');\n",
              "        }\n",
              "        (() => {\n",
              "          let quickchartButtonEl =\n",
              "            document.querySelector('#df-87963dfc-b667-43cc-8f44-70b754bd651c button');\n",
              "          quickchartButtonEl.style.display =\n",
              "            google.colab.kernel.accessAllowed ? 'block' : 'none';\n",
              "        })();\n",
              "      </script>\n",
              "    </div>\n",
              "    </div>\n",
              "  </div>\n"
            ],
            "application/vnd.google.colaboratory.intrinsic+json": {
              "type": "dataframe",
              "summary": "{\n  \"name\": \"train\",\n  \"rows\": 5,\n  \"fields\": [\n    {\n      \"column\": \"instance_id\",\n      \"properties\": {\n        \"dtype\": \"number\",\n        \"std\": 20882.97222140565,\n        \"min\": 35751.0,\n        \"max\": 83679.0,\n        \"num_unique_values\": 5,\n        \"samples\": [\n          82959.0,\n          83679.0,\n          35751.0\n        ],\n        \"semantic_type\": \"\",\n        \"description\": \"\"\n      }\n    },\n    {\n      \"column\": \"track_name\",\n      \"properties\": {\n        \"dtype\": \"string\",\n        \"num_unique_values\": 5,\n        \"samples\": [\n          \"Mind Over Matter\",\n          \"VIBE\",\n          \"St. John Passion, BWV 245, Pt. 1: No. 2c, Jesus spricht zu ihnen\"\n        ],\n        \"semantic_type\": \"\",\n        \"description\": \"\"\n      }\n    },\n    {\n      \"column\": \"acousticness\",\n      \"properties\": {\n        \"dtype\": \"number\",\n        \"std\": 0.3560778595057547,\n        \"min\": 0.000749,\n        \"max\": 0.831,\n        \"num_unique_values\": 5,\n        \"samples\": [\n          0.0183,\n          0.114,\n          0.831\n        ],\n        \"semantic_type\": \"\",\n        \"description\": \"\"\n      }\n    },\n    {\n      \"column\": \"danceability\",\n      \"properties\": {\n        \"dtype\": \"number\",\n        \"std\": 0.20887029468069415,\n        \"min\": 0.296,\n        \"max\": 0.8290000000000001,\n        \"num_unique_values\": 5,\n        \"samples\": [\n          0.65,\n          0.8290000000000001,\n          0.402\n        ],\n        \"semantic_type\": \"\",\n        \"description\": \"\"\n      }\n    },\n    {\n      \"column\": \"duration_ms\",\n      \"properties\": {\n        \"dtype\": \"number\",\n        \"std\": 190172.23754060423,\n        \"min\": -1.0,\n        \"max\": 452333.0,\n        \"num_unique_values\": 5,\n        \"samples\": [\n          -1.0,\n          245724.0,\n          32831.0\n        ],\n        \"semantic_type\": \"\",\n        \"description\": \"\"\n      }\n    },\n    {\n      \"column\": \"energy\",\n      \"properties\": {\n        \"dtype\": \"number\",\n        \"std\": 0.3055181042098815,\n        \"min\": 0.0956,\n        \"max\": 0.887,\n        \"num_unique_values\": 5,\n        \"samples\": [\n          0.611,\n          0.779,\n          0.0956\n        ],\n        \"semantic_type\": \"\",\n        \"description\": \"\"\n      }\n    },\n    {\n      \"column\": \"instrumentalness\",\n      \"properties\": {\n        \"dtype\": \"number\",\n        \"std\": 0.36080414037505326,\n        \"min\": 0.0,\n        \"max\": 0.831,\n        \"num_unique_values\": 5,\n        \"samples\": [\n          0.122,\n          4.16e-06,\n          0.0\n        ],\n        \"semantic_type\": \"\",\n        \"description\": \"\"\n      }\n    },\n    {\n      \"column\": \"key\",\n      \"properties\": {\n        \"dtype\": \"string\",\n        \"num_unique_values\": 3,\n        \"samples\": [\n          \"C\",\n          \"C#\",\n          \"D\"\n        ],\n        \"semantic_type\": \"\",\n        \"description\": \"\"\n      }\n    },\n    {\n      \"column\": \"liveness\",\n      \"properties\": {\n        \"dtype\": \"number\",\n        \"std\": 0.14463987002206552,\n        \"min\": 0.0534,\n        \"max\": 0.4,\n        \"num_unique_values\": 5,\n        \"samples\": [\n          0.0754,\n          0.0534,\n          0.4\n        ],\n        \"semantic_type\": \"\",\n        \"description\": \"\"\n      }\n    },\n    {\n      \"column\": \"loudness\",\n      \"properties\": {\n        \"dtype\": \"number\",\n        \"std\": 8.10435120783891,\n        \"min\": -24.119,\n        \"max\": -5.364,\n        \"num_unique_values\": 5,\n        \"samples\": [\n          -6.877000000000001,\n          -5.722,\n          -24.119\n        ],\n        \"semantic_type\": \"\",\n        \"description\": \"\"\n      }\n    },\n    {\n      \"column\": \"mode\",\n      \"properties\": {\n        \"dtype\": \"category\",\n        \"num_unique_values\": 2,\n        \"samples\": [\n          \"Major\",\n          \"Minor\"\n        ],\n        \"semantic_type\": \"\",\n        \"description\": \"\"\n      }\n    },\n    {\n      \"column\": \"speechiness\",\n      \"properties\": {\n        \"dtype\": \"number\",\n        \"std\": 0.10005324582441089,\n        \"min\": 0.0452,\n        \"max\": 0.257,\n        \"num_unique_values\": 5,\n        \"samples\": [\n          0.257,\n          0.2189999999999999\n        ],\n        \"semantic_type\": \"\",\n        \"description\": \"\"\n      }\n    },\n    {\n      \"column\": \"tempo\",\n      \"properties\": {\n        \"dtype\": \"number\",\n        \"std\": 22.082204901232124,\n        \"min\": 74.692,\n        \"max\": 127.966,\n        \"num_unique_values\": 5,\n        \"samples\": [\n          127.966,\n          126.039\n        ],\n        \"semantic_type\": \"\",\n        \"description\": \"\"\n      }\n    },\n    {\n      \"column\": \"obtained_date\",\n      \"properties\": {\n        \"dtype\": \"category\",\n        \"num_unique_values\": 1,\n        \"samples\": [\n          \"4-Apr\"\n        ],\n        \"semantic_type\": \"\",\n        \"description\": \"\"\n      }\n    },\n    {\n      \"column\": \"valence\",\n      \"properties\": {\n        \"dtype\": \"number\",\n        \"std\": 0.22960945102499591,\n        \"min\": 0.19,\n        \"max\": 0.799,\n        \"num_unique_values\": 5,\n        \"samples\": [\n          0.19\n        ],\n        \"semantic_type\": \"\",\n        \"description\": \"\"\n      }\n    },\n    {\n      \"column\": \"music_genre\",\n      \"properties\": {\n        \"dtype\": \"string\",\n        \"num_unique_values\": 4,\n        \"samples\": [\n          \"Electronic\"\n        ],\n        \"semantic_type\": \"\",\n        \"description\": \"\"\n      }\n    }\n  ]\n}"
            }
          },
          "metadata": {},
          "execution_count": 81
        }
      ],
      "source": [
        "train.sample(5)"
      ]
    },
    {
      "cell_type": "markdown",
      "metadata": {
        "id": "SiKqp1lxOs_y"
      },
      "source": [
        "**Описание полей данных**\n",
        "\n",
        "`instance_id` - уникальный идентификатор трека  \n",
        "`track_name` - название трека  \n",
        "`acousticness` - акустичность  \n",
        "`danceability` - танцевальность  \n",
        "`duration_ms` -продолжительность в милисекундах  \n",
        "`energy` - энергичность  \n",
        "`instrumentalness` - инструментальность  \n",
        "`key` - тональность  \n",
        "`liveness` - привлекательность  \n",
        "`loudness` - громкость  \n",
        "`mode` - наклонение  \n",
        "`speechiness` - выразительность  \n",
        "`tempo` - темп  \n",
        "`obtained_date` - дата загрузки в сервис  \n",
        "`valence` - привлекательность произведения для пользователей сервиса  \n",
        "`music_genre` - музыкальный жанр"
      ]
    },
    {
      "cell_type": "markdown",
      "metadata": {
        "id": "ISIPhbS3RD3f"
      },
      "source": [
        "## Предварительная обработка данных"
      ]
    },
    {
      "cell_type": "code",
      "source": [
        "train.head()"
      ],
      "metadata": {
        "id": "k-7r-wHPkKoc",
        "colab": {
          "base_uri": "https://localhost:8080/",
          "height": 313
        },
        "outputId": "74fab134-8bec-4d97-f771-3fb0786b3487"
      },
      "execution_count": 82,
      "outputs": [
        {
          "output_type": "execute_result",
          "data": {
            "text/plain": [
              "   instance_id                  track_name  acousticness  danceability  \\\n",
              "0      25143.0                  Highwayman        0.4800         0.670   \n",
              "1      26091.0       Toes Across The Floor        0.2430         0.452   \n",
              "2      87888.0       First Person on Earth        0.2280         0.454   \n",
              "3      77021.0  No Te Veo - Digital Single        0.0558         0.847   \n",
              "4      20852.0             Chasing Shadows        0.2270         0.742   \n",
              "\n",
              "   duration_ms  energy  instrumentalness key  liveness  loudness   mode  \\\n",
              "0     182653.0   0.351          0.017600   D     0.115   -16.842  Major   \n",
              "1     187133.0   0.670          0.000051   A     0.108    -8.392  Minor   \n",
              "2     173448.0   0.804          0.000000   E     0.181    -5.225  Minor   \n",
              "3     255987.0   0.873          0.000003  G#     0.325    -4.805  Minor   \n",
              "4     195333.0   0.575          0.000002   C     0.176    -5.550  Major   \n",
              "\n",
              "   speechiness    tempo obtained_date  valence  music_genre  \n",
              "0       0.0463  101.384         4-Apr    0.450      Country  \n",
              "1       0.0352  113.071         4-Apr    0.539         Rock  \n",
              "2       0.3710   80.980         4-Apr    0.344  Alternative  \n",
              "3       0.0804  116.007         4-Apr    0.966      Hip-Hop  \n",
              "4       0.0487   76.494         4-Apr    0.583  Alternative  "
            ],
            "text/html": [
              "\n",
              "  <div id=\"df-f6ad6781-1c27-45fc-9594-46fb9cd2f146\" class=\"colab-df-container\">\n",
              "    <div>\n",
              "<style scoped>\n",
              "    .dataframe tbody tr th:only-of-type {\n",
              "        vertical-align: middle;\n",
              "    }\n",
              "\n",
              "    .dataframe tbody tr th {\n",
              "        vertical-align: top;\n",
              "    }\n",
              "\n",
              "    .dataframe thead th {\n",
              "        text-align: right;\n",
              "    }\n",
              "</style>\n",
              "<table border=\"1\" class=\"dataframe\">\n",
              "  <thead>\n",
              "    <tr style=\"text-align: right;\">\n",
              "      <th></th>\n",
              "      <th>instance_id</th>\n",
              "      <th>track_name</th>\n",
              "      <th>acousticness</th>\n",
              "      <th>danceability</th>\n",
              "      <th>duration_ms</th>\n",
              "      <th>energy</th>\n",
              "      <th>instrumentalness</th>\n",
              "      <th>key</th>\n",
              "      <th>liveness</th>\n",
              "      <th>loudness</th>\n",
              "      <th>mode</th>\n",
              "      <th>speechiness</th>\n",
              "      <th>tempo</th>\n",
              "      <th>obtained_date</th>\n",
              "      <th>valence</th>\n",
              "      <th>music_genre</th>\n",
              "    </tr>\n",
              "  </thead>\n",
              "  <tbody>\n",
              "    <tr>\n",
              "      <th>0</th>\n",
              "      <td>25143.0</td>\n",
              "      <td>Highwayman</td>\n",
              "      <td>0.4800</td>\n",
              "      <td>0.670</td>\n",
              "      <td>182653.0</td>\n",
              "      <td>0.351</td>\n",
              "      <td>0.017600</td>\n",
              "      <td>D</td>\n",
              "      <td>0.115</td>\n",
              "      <td>-16.842</td>\n",
              "      <td>Major</td>\n",
              "      <td>0.0463</td>\n",
              "      <td>101.384</td>\n",
              "      <td>4-Apr</td>\n",
              "      <td>0.450</td>\n",
              "      <td>Country</td>\n",
              "    </tr>\n",
              "    <tr>\n",
              "      <th>1</th>\n",
              "      <td>26091.0</td>\n",
              "      <td>Toes Across The Floor</td>\n",
              "      <td>0.2430</td>\n",
              "      <td>0.452</td>\n",
              "      <td>187133.0</td>\n",
              "      <td>0.670</td>\n",
              "      <td>0.000051</td>\n",
              "      <td>A</td>\n",
              "      <td>0.108</td>\n",
              "      <td>-8.392</td>\n",
              "      <td>Minor</td>\n",
              "      <td>0.0352</td>\n",
              "      <td>113.071</td>\n",
              "      <td>4-Apr</td>\n",
              "      <td>0.539</td>\n",
              "      <td>Rock</td>\n",
              "    </tr>\n",
              "    <tr>\n",
              "      <th>2</th>\n",
              "      <td>87888.0</td>\n",
              "      <td>First Person on Earth</td>\n",
              "      <td>0.2280</td>\n",
              "      <td>0.454</td>\n",
              "      <td>173448.0</td>\n",
              "      <td>0.804</td>\n",
              "      <td>0.000000</td>\n",
              "      <td>E</td>\n",
              "      <td>0.181</td>\n",
              "      <td>-5.225</td>\n",
              "      <td>Minor</td>\n",
              "      <td>0.3710</td>\n",
              "      <td>80.980</td>\n",
              "      <td>4-Apr</td>\n",
              "      <td>0.344</td>\n",
              "      <td>Alternative</td>\n",
              "    </tr>\n",
              "    <tr>\n",
              "      <th>3</th>\n",
              "      <td>77021.0</td>\n",
              "      <td>No Te Veo - Digital Single</td>\n",
              "      <td>0.0558</td>\n",
              "      <td>0.847</td>\n",
              "      <td>255987.0</td>\n",
              "      <td>0.873</td>\n",
              "      <td>0.000003</td>\n",
              "      <td>G#</td>\n",
              "      <td>0.325</td>\n",
              "      <td>-4.805</td>\n",
              "      <td>Minor</td>\n",
              "      <td>0.0804</td>\n",
              "      <td>116.007</td>\n",
              "      <td>4-Apr</td>\n",
              "      <td>0.966</td>\n",
              "      <td>Hip-Hop</td>\n",
              "    </tr>\n",
              "    <tr>\n",
              "      <th>4</th>\n",
              "      <td>20852.0</td>\n",
              "      <td>Chasing Shadows</td>\n",
              "      <td>0.2270</td>\n",
              "      <td>0.742</td>\n",
              "      <td>195333.0</td>\n",
              "      <td>0.575</td>\n",
              "      <td>0.000002</td>\n",
              "      <td>C</td>\n",
              "      <td>0.176</td>\n",
              "      <td>-5.550</td>\n",
              "      <td>Major</td>\n",
              "      <td>0.0487</td>\n",
              "      <td>76.494</td>\n",
              "      <td>4-Apr</td>\n",
              "      <td>0.583</td>\n",
              "      <td>Alternative</td>\n",
              "    </tr>\n",
              "  </tbody>\n",
              "</table>\n",
              "</div>\n",
              "    <div class=\"colab-df-buttons\">\n",
              "\n",
              "  <div class=\"colab-df-container\">\n",
              "    <button class=\"colab-df-convert\" onclick=\"convertToInteractive('df-f6ad6781-1c27-45fc-9594-46fb9cd2f146')\"\n",
              "            title=\"Convert this dataframe to an interactive table.\"\n",
              "            style=\"display:none;\">\n",
              "\n",
              "  <svg xmlns=\"http://www.w3.org/2000/svg\" height=\"24px\" viewBox=\"0 -960 960 960\">\n",
              "    <path d=\"M120-120v-720h720v720H120Zm60-500h600v-160H180v160Zm220 220h160v-160H400v160Zm0 220h160v-160H400v160ZM180-400h160v-160H180v160Zm440 0h160v-160H620v160ZM180-180h160v-160H180v160Zm440 0h160v-160H620v160Z\"/>\n",
              "  </svg>\n",
              "    </button>\n",
              "\n",
              "  <style>\n",
              "    .colab-df-container {\n",
              "      display:flex;\n",
              "      gap: 12px;\n",
              "    }\n",
              "\n",
              "    .colab-df-convert {\n",
              "      background-color: #E8F0FE;\n",
              "      border: none;\n",
              "      border-radius: 50%;\n",
              "      cursor: pointer;\n",
              "      display: none;\n",
              "      fill: #1967D2;\n",
              "      height: 32px;\n",
              "      padding: 0 0 0 0;\n",
              "      width: 32px;\n",
              "    }\n",
              "\n",
              "    .colab-df-convert:hover {\n",
              "      background-color: #E2EBFA;\n",
              "      box-shadow: 0px 1px 2px rgba(60, 64, 67, 0.3), 0px 1px 3px 1px rgba(60, 64, 67, 0.15);\n",
              "      fill: #174EA6;\n",
              "    }\n",
              "\n",
              "    .colab-df-buttons div {\n",
              "      margin-bottom: 4px;\n",
              "    }\n",
              "\n",
              "    [theme=dark] .colab-df-convert {\n",
              "      background-color: #3B4455;\n",
              "      fill: #D2E3FC;\n",
              "    }\n",
              "\n",
              "    [theme=dark] .colab-df-convert:hover {\n",
              "      background-color: #434B5C;\n",
              "      box-shadow: 0px 1px 3px 1px rgba(0, 0, 0, 0.15);\n",
              "      filter: drop-shadow(0px 1px 2px rgba(0, 0, 0, 0.3));\n",
              "      fill: #FFFFFF;\n",
              "    }\n",
              "  </style>\n",
              "\n",
              "    <script>\n",
              "      const buttonEl =\n",
              "        document.querySelector('#df-f6ad6781-1c27-45fc-9594-46fb9cd2f146 button.colab-df-convert');\n",
              "      buttonEl.style.display =\n",
              "        google.colab.kernel.accessAllowed ? 'block' : 'none';\n",
              "\n",
              "      async function convertToInteractive(key) {\n",
              "        const element = document.querySelector('#df-f6ad6781-1c27-45fc-9594-46fb9cd2f146');\n",
              "        const dataTable =\n",
              "          await google.colab.kernel.invokeFunction('convertToInteractive',\n",
              "                                                    [key], {});\n",
              "        if (!dataTable) return;\n",
              "\n",
              "        const docLinkHtml = 'Like what you see? Visit the ' +\n",
              "          '<a target=\"_blank\" href=https://colab.research.google.com/notebooks/data_table.ipynb>data table notebook</a>'\n",
              "          + ' to learn more about interactive tables.';\n",
              "        element.innerHTML = '';\n",
              "        dataTable['output_type'] = 'display_data';\n",
              "        await google.colab.output.renderOutput(dataTable, element);\n",
              "        const docLink = document.createElement('div');\n",
              "        docLink.innerHTML = docLinkHtml;\n",
              "        element.appendChild(docLink);\n",
              "      }\n",
              "    </script>\n",
              "  </div>\n",
              "\n",
              "\n",
              "    <div id=\"df-6a3d50be-b679-4eaf-958c-2d887b1c6a44\">\n",
              "      <button class=\"colab-df-quickchart\" onclick=\"quickchart('df-6a3d50be-b679-4eaf-958c-2d887b1c6a44')\"\n",
              "                title=\"Suggest charts\"\n",
              "                style=\"display:none;\">\n",
              "\n",
              "<svg xmlns=\"http://www.w3.org/2000/svg\" height=\"24px\"viewBox=\"0 0 24 24\"\n",
              "     width=\"24px\">\n",
              "    <g>\n",
              "        <path d=\"M19 3H5c-1.1 0-2 .9-2 2v14c0 1.1.9 2 2 2h14c1.1 0 2-.9 2-2V5c0-1.1-.9-2-2-2zM9 17H7v-7h2v7zm4 0h-2V7h2v10zm4 0h-2v-4h2v4z\"/>\n",
              "    </g>\n",
              "</svg>\n",
              "      </button>\n",
              "\n",
              "<style>\n",
              "  .colab-df-quickchart {\n",
              "      --bg-color: #E8F0FE;\n",
              "      --fill-color: #1967D2;\n",
              "      --hover-bg-color: #E2EBFA;\n",
              "      --hover-fill-color: #174EA6;\n",
              "      --disabled-fill-color: #AAA;\n",
              "      --disabled-bg-color: #DDD;\n",
              "  }\n",
              "\n",
              "  [theme=dark] .colab-df-quickchart {\n",
              "      --bg-color: #3B4455;\n",
              "      --fill-color: #D2E3FC;\n",
              "      --hover-bg-color: #434B5C;\n",
              "      --hover-fill-color: #FFFFFF;\n",
              "      --disabled-bg-color: #3B4455;\n",
              "      --disabled-fill-color: #666;\n",
              "  }\n",
              "\n",
              "  .colab-df-quickchart {\n",
              "    background-color: var(--bg-color);\n",
              "    border: none;\n",
              "    border-radius: 50%;\n",
              "    cursor: pointer;\n",
              "    display: none;\n",
              "    fill: var(--fill-color);\n",
              "    height: 32px;\n",
              "    padding: 0;\n",
              "    width: 32px;\n",
              "  }\n",
              "\n",
              "  .colab-df-quickchart:hover {\n",
              "    background-color: var(--hover-bg-color);\n",
              "    box-shadow: 0 1px 2px rgba(60, 64, 67, 0.3), 0 1px 3px 1px rgba(60, 64, 67, 0.15);\n",
              "    fill: var(--button-hover-fill-color);\n",
              "  }\n",
              "\n",
              "  .colab-df-quickchart-complete:disabled,\n",
              "  .colab-df-quickchart-complete:disabled:hover {\n",
              "    background-color: var(--disabled-bg-color);\n",
              "    fill: var(--disabled-fill-color);\n",
              "    box-shadow: none;\n",
              "  }\n",
              "\n",
              "  .colab-df-spinner {\n",
              "    border: 2px solid var(--fill-color);\n",
              "    border-color: transparent;\n",
              "    border-bottom-color: var(--fill-color);\n",
              "    animation:\n",
              "      spin 1s steps(1) infinite;\n",
              "  }\n",
              "\n",
              "  @keyframes spin {\n",
              "    0% {\n",
              "      border-color: transparent;\n",
              "      border-bottom-color: var(--fill-color);\n",
              "      border-left-color: var(--fill-color);\n",
              "    }\n",
              "    20% {\n",
              "      border-color: transparent;\n",
              "      border-left-color: var(--fill-color);\n",
              "      border-top-color: var(--fill-color);\n",
              "    }\n",
              "    30% {\n",
              "      border-color: transparent;\n",
              "      border-left-color: var(--fill-color);\n",
              "      border-top-color: var(--fill-color);\n",
              "      border-right-color: var(--fill-color);\n",
              "    }\n",
              "    40% {\n",
              "      border-color: transparent;\n",
              "      border-right-color: var(--fill-color);\n",
              "      border-top-color: var(--fill-color);\n",
              "    }\n",
              "    60% {\n",
              "      border-color: transparent;\n",
              "      border-right-color: var(--fill-color);\n",
              "    }\n",
              "    80% {\n",
              "      border-color: transparent;\n",
              "      border-right-color: var(--fill-color);\n",
              "      border-bottom-color: var(--fill-color);\n",
              "    }\n",
              "    90% {\n",
              "      border-color: transparent;\n",
              "      border-bottom-color: var(--fill-color);\n",
              "    }\n",
              "  }\n",
              "</style>\n",
              "\n",
              "      <script>\n",
              "        async function quickchart(key) {\n",
              "          const quickchartButtonEl =\n",
              "            document.querySelector('#' + key + ' button');\n",
              "          quickchartButtonEl.disabled = true;  // To prevent multiple clicks.\n",
              "          quickchartButtonEl.classList.add('colab-df-spinner');\n",
              "          try {\n",
              "            const charts = await google.colab.kernel.invokeFunction(\n",
              "                'suggestCharts', [key], {});\n",
              "          } catch (error) {\n",
              "            console.error('Error during call to suggestCharts:', error);\n",
              "          }\n",
              "          quickchartButtonEl.classList.remove('colab-df-spinner');\n",
              "          quickchartButtonEl.classList.add('colab-df-quickchart-complete');\n",
              "        }\n",
              "        (() => {\n",
              "          let quickchartButtonEl =\n",
              "            document.querySelector('#df-6a3d50be-b679-4eaf-958c-2d887b1c6a44 button');\n",
              "          quickchartButtonEl.style.display =\n",
              "            google.colab.kernel.accessAllowed ? 'block' : 'none';\n",
              "        })();\n",
              "      </script>\n",
              "    </div>\n",
              "    </div>\n",
              "  </div>\n"
            ],
            "application/vnd.google.colaboratory.intrinsic+json": {
              "type": "dataframe",
              "variable_name": "train",
              "summary": "{\n  \"name\": \"train\",\n  \"rows\": 20394,\n  \"fields\": [\n    {\n      \"column\": \"instance_id\",\n      \"properties\": {\n        \"dtype\": \"number\",\n        \"std\": 20695.79254487884,\n        \"min\": 20011.0,\n        \"max\": 91758.0,\n        \"num_unique_values\": 20394,\n        \"samples\": [\n          75850.0,\n          67409.0,\n          54076.0\n        ],\n        \"semantic_type\": \"\",\n        \"description\": \"\"\n      }\n    },\n    {\n      \"column\": \"track_name\",\n      \"properties\": {\n        \"dtype\": \"string\",\n        \"num_unique_values\": 18643,\n        \"samples\": [\n          \"Change On Me (feat. Leuca)\",\n          \"\\u7b11\\u9854\\u306e\\u30eb\\u30fc\\u30d7\",\n          \"Thinking Of\"\n        ],\n        \"semantic_type\": \"\",\n        \"description\": \"\"\n      }\n    },\n    {\n      \"column\": \"acousticness\",\n      \"properties\": {\n        \"dtype\": \"number\",\n        \"std\": 0.32164334724527216,\n        \"min\": 0.0,\n        \"max\": 0.996,\n        \"num_unique_values\": 3616,\n        \"samples\": [\n          0.0897,\n          0.792,\n          0.00417\n        ],\n        \"semantic_type\": \"\",\n        \"description\": \"\"\n      }\n    },\n    {\n      \"column\": \"danceability\",\n      \"properties\": {\n        \"dtype\": \"number\",\n        \"std\": 0.17189757196659972,\n        \"min\": 0.06,\n        \"max\": 0.978,\n        \"num_unique_values\": 950,\n        \"samples\": [\n          0.435,\n          0.1169999999999999,\n          0.152\n        ],\n        \"semantic_type\": \"\",\n        \"description\": \"\"\n      }\n    },\n    {\n      \"column\": \"duration_ms\",\n      \"properties\": {\n        \"dtype\": \"number\",\n        \"std\": 126728.32614223416,\n        \"min\": -1.0,\n        \"max\": 4497994.0,\n        \"num_unique_values\": 13649,\n        \"samples\": [\n          267959.0,\n          307880.0,\n          211507.0\n        ],\n        \"semantic_type\": \"\",\n        \"description\": \"\"\n      }\n    },\n    {\n      \"column\": \"energy\",\n      \"properties\": {\n        \"dtype\": \"number\",\n        \"std\": 0.25123765460349107,\n        \"min\": 0.00101,\n        \"max\": 0.999,\n        \"num_unique_values\": 1521,\n        \"samples\": [\n          0.604,\n          0.181,\n          0.00627\n        ],\n        \"semantic_type\": \"\",\n        \"description\": \"\"\n      }\n    },\n    {\n      \"column\": \"instrumentalness\",\n      \"properties\": {\n        \"dtype\": \"number\",\n        \"std\": 0.3065028391822661,\n        \"min\": 0.0,\n        \"max\": 0.996,\n        \"num_unique_values\": 4360,\n        \"samples\": [\n          4.04e-05,\n          9.29e-06,\n          9.35e-05\n        ],\n        \"semantic_type\": \"\",\n        \"description\": \"\"\n      }\n    },\n    {\n      \"column\": \"key\",\n      \"properties\": {\n        \"dtype\": \"category\",\n        \"num_unique_values\": 12,\n        \"samples\": [\n          \"C#\",\n          \"G\",\n          \"D\"\n        ],\n        \"semantic_type\": \"\",\n        \"description\": \"\"\n      }\n    },\n    {\n      \"column\": \"liveness\",\n      \"properties\": {\n        \"dtype\": \"number\",\n        \"std\": 0.16674243092650232,\n        \"min\": 0.0136,\n        \"max\": 1.0,\n        \"num_unique_values\": 1521,\n        \"samples\": [\n          0.0597,\n          0.664,\n          0.526\n        ],\n        \"semantic_type\": \"\",\n        \"description\": \"\"\n      }\n    },\n    {\n      \"column\": \"loudness\",\n      \"properties\": {\n        \"dtype\": \"number\",\n        \"std\": 5.4999166342113295,\n        \"min\": -44.406000000000006,\n        \"max\": 3.744,\n        \"num_unique_values\": 10844,\n        \"samples\": [\n          -3.782,\n          -7.723,\n          -16.977\n        ],\n        \"semantic_type\": \"\",\n        \"description\": \"\"\n      }\n    },\n    {\n      \"column\": \"mode\",\n      \"properties\": {\n        \"dtype\": \"category\",\n        \"num_unique_values\": 2,\n        \"samples\": [\n          \"Minor\",\n          \"Major\"\n        ],\n        \"semantic_type\": \"\",\n        \"description\": \"\"\n      }\n    },\n    {\n      \"column\": \"speechiness\",\n      \"properties\": {\n        \"dtype\": \"number\",\n        \"std\": 0.09773515688792143,\n        \"min\": 0.0223,\n        \"max\": 0.942,\n        \"num_unique_values\": 1243,\n        \"samples\": [\n          0.0256,\n          0.0625\n        ],\n        \"semantic_type\": \"\",\n        \"description\": \"\"\n      }\n    },\n    {\n      \"column\": \"tempo\",\n      \"properties\": {\n        \"dtype\": \"number\",\n        \"std\": 30.42758970460875,\n        \"min\": 34.765,\n        \"max\": 220.041,\n        \"num_unique_values\": 15762,\n        \"samples\": [\n          95.021,\n          153.83100000000002\n        ],\n        \"semantic_type\": \"\",\n        \"description\": \"\"\n      }\n    },\n    {\n      \"column\": \"obtained_date\",\n      \"properties\": {\n        \"dtype\": \"category\",\n        \"num_unique_values\": 4,\n        \"samples\": [\n          \"3-Apr\",\n          \"1-Apr\"\n        ],\n        \"semantic_type\": \"\",\n        \"description\": \"\"\n      }\n    },\n    {\n      \"column\": \"valence\",\n      \"properties\": {\n        \"dtype\": \"number\",\n        \"std\": 0.24338678887671936,\n        \"min\": 0.0,\n        \"max\": 0.992,\n        \"num_unique_values\": 1454,\n        \"samples\": [\n          0.7659999999999999,\n          0.0644\n        ],\n        \"semantic_type\": \"\",\n        \"description\": \"\"\n      }\n    },\n    {\n      \"column\": \"music_genre\",\n      \"properties\": {\n        \"dtype\": \"category\",\n        \"num_unique_values\": 10,\n        \"samples\": [\n          \"Rap\",\n          \"Rock\"\n        ],\n        \"semantic_type\": \"\",\n        \"description\": \"\"\n      }\n    }\n  ]\n}"
            }
          },
          "metadata": {},
          "execution_count": 82
        }
      ]
    },
    {
      "cell_type": "code",
      "source": [
        "print(\"Train data shape:\", train.shape)\n",
        "print(\"Test data shape: \", test.shape)"
      ],
      "metadata": {
        "colab": {
          "base_uri": "https://localhost:8080/"
        },
        "id": "LGlK_wx38Wos",
        "outputId": "9f8e168a-a7c3-45e3-b93b-9953b387cf5d"
      },
      "execution_count": 83,
      "outputs": [
        {
          "output_type": "stream",
          "name": "stdout",
          "text": [
            "Train data shape: (20394, 16)\n",
            "Test data shape:  (5099, 15)\n"
          ]
        }
      ]
    },
    {
      "cell_type": "code",
      "source": [
        "print(\"Train null\")\n",
        "[print(f\"{i}: {train[i].isnull().sum()}\") for i in train.columns if train[i].isnull().sum() > 0]\n",
        "print(\"\\nTest null\")\n",
        "[print(f\"{i}: {test[i].isnull().sum()}\") for i in test.columns if test[i].isnull().sum() > 0]"
      ],
      "metadata": {
        "id": "gfTOf1xnNuOE",
        "outputId": "8dbfda4d-3f61-468d-9bd3-61da080314e8",
        "colab": {
          "base_uri": "https://localhost:8080/"
        }
      },
      "execution_count": 84,
      "outputs": [
        {
          "output_type": "stream",
          "name": "stdout",
          "text": [
            "Train null\n",
            "key: 735\n",
            "mode: 506\n",
            "tempo: 442\n",
            "\n",
            "Test null\n",
            "key: 158\n",
            "mode: 149\n",
            "tempo: 121\n"
          ]
        },
        {
          "output_type": "execute_result",
          "data": {
            "text/plain": [
              "[None, None, None]"
            ]
          },
          "metadata": {},
          "execution_count": 84
        }
      ]
    },
    {
      "cell_type": "code",
      "source": [
        "%%capture\n",
        "profile = ProfileReport(train, title=\"Profiling Report\")\n",
        "profile.to_file(\"Project_Music_genre_prediction.html\")"
      ],
      "metadata": {
        "id": "2eqhViJrNLgt"
      },
      "execution_count": 85,
      "outputs": []
    },
    {
      "cell_type": "code",
      "source": [
        "statistics_train = train.select_dtypes(include=['float64', 'int64']).describe()\n",
        "statistics_test = test.select_dtypes(include=['float64', 'int64']).describe()\n",
        "statistics_obj_train = train.select_dtypes(include=['object']).describe()\n",
        "statistics_obj_test = test.select_dtypes(include=['object']).describe()\n",
        "\n",
        "print(f\"Train:\\n{statistics_train}\")\n",
        "print(f\"\\nTest:\\n{statistics_test}\")\n",
        "print(f\"\\nTrain object:\\n{statistics_obj_train}\")\n",
        "print(f\"\\nTest object:\\n{statistics_obj_test}\")"
      ],
      "metadata": {
        "colab": {
          "base_uri": "https://localhost:8080/"
        },
        "id": "dItmnyF1Gv0T",
        "outputId": "457c7c42-c25c-4972-ec8b-c9aced54e4b5"
      },
      "execution_count": 86,
      "outputs": [
        {
          "output_type": "stream",
          "name": "stdout",
          "text": [
            "Train:\n",
            "        instance_id  acousticness  danceability   duration_ms        energy  \\\n",
            "count  20394.000000  20394.000000  20394.000000  2.039400e+04  20394.000000   \n",
            "mean   55973.846916      0.274783      0.561983  2.203754e+05      0.625276   \n",
            "std    20695.792545      0.321643      0.171898  1.267283e+05      0.251238   \n",
            "min    20011.000000      0.000000      0.060000 -1.000000e+00      0.001010   \n",
            "25%    38157.250000      0.015200      0.451000  1.775170e+05      0.470000   \n",
            "50%    56030.000000      0.120000      0.570000  2.195330e+05      0.666000   \n",
            "75%    73912.750000      0.470000      0.683000  2.660000e+05      0.830000   \n",
            "max    91758.000000      0.996000      0.978000  4.497994e+06      0.999000   \n",
            "\n",
            "       instrumentalness      liveness      loudness   speechiness  \\\n",
            "count      20394.000000  20394.000000  20394.000000  20394.000000   \n",
            "mean           0.159989      0.198540     -8.552998      0.091352   \n",
            "std            0.306503      0.166742      5.499917      0.097735   \n",
            "min            0.000000      0.013600    -44.406000      0.022300   \n",
            "25%            0.000000      0.097300    -10.255750      0.035600   \n",
            "50%            0.000144      0.130000     -7.052000      0.049050   \n",
            "75%            0.084475      0.253000     -5.054000      0.095575   \n",
            "max            0.996000      1.000000      3.744000      0.942000   \n",
            "\n",
            "              tempo       valence  \n",
            "count  19952.000000  20394.000000  \n",
            "mean     120.942522      0.464588  \n",
            "std       30.427590      0.243387  \n",
            "min       34.765000      0.000000  \n",
            "25%       95.921750      0.272000  \n",
            "50%      120.012500      0.457000  \n",
            "75%      141.966250      0.653000  \n",
            "max      220.041000      0.992000  \n",
            "\n",
            "Test:\n",
            "        instance_id  acousticness  danceability   duration_ms       energy  \\\n",
            "count   5099.000000   5099.000000   5099.000000  5.099000e+03  5099.000000   \n",
            "mean   55643.871347      0.276324      0.561888  2.173974e+05     0.622030   \n",
            "std    20762.384803      0.322657      0.170502  1.156374e+05     0.251829   \n",
            "min    20012.000000      0.000002      0.059600 -1.000000e+00     0.001540   \n",
            "25%    37571.000000      0.016600      0.451000  1.737335e+05     0.465000   \n",
            "50%    55246.000000      0.120000      0.568000  2.175000e+05     0.660000   \n",
            "75%    73702.000000      0.460000      0.681000  2.642470e+05     0.826000   \n",
            "max    91709.000000      0.996000      0.977000  1.360027e+06     0.999000   \n",
            "\n",
            "       instrumentalness     liveness     loudness  speechiness        tempo  \\\n",
            "count       5099.000000  5099.000000  5099.000000  5099.000000  4978.000000   \n",
            "mean           0.165198     0.197924    -8.630186     0.092718   121.246463   \n",
            "std            0.311940     0.166241     5.619766     0.100130    29.875950   \n",
            "min            0.000000     0.020400   -46.122000     0.022600    37.114000   \n",
            "25%            0.000000     0.096950   -10.231000     0.035700    96.070250   \n",
            "50%            0.000157     0.129000    -7.135000     0.048700   120.053500   \n",
            "75%            0.092750     0.248000    -5.127000     0.096550   141.934250   \n",
            "max            0.994000     0.990000     1.949000     0.918000   216.029000   \n",
            "\n",
            "           valence  \n",
            "count  5099.000000  \n",
            "mean      0.465593  \n",
            "std       0.244217  \n",
            "min       0.020500  \n",
            "25%       0.272000  \n",
            "50%       0.458000  \n",
            "75%       0.650000  \n",
            "max       0.982000  \n",
            "\n",
            "Train object:\n",
            "       track_name    key   mode obtained_date music_genre\n",
            "count       20394  19659  19888         20394       20394\n",
            "unique      18643     12      2             4          10\n",
            "top          Home      G  Major         4-Apr       Blues\n",
            "freq           11   2304  12828         18435        2858\n",
            "\n",
            "Test object:\n",
            "       track_name   key   mode obtained_date\n",
            "count        5099  4941   4950          5099\n",
            "unique       4981    12      2             4\n",
            "top         Sorry     D  Major         4-Apr\n",
            "freq            3   557   3177          4597\n"
          ]
        }
      ]
    },
    {
      "cell_type": "markdown",
      "source": [
        "## Разведочный анализ"
      ],
      "metadata": {
        "id": "C1n43JFuj8A4"
      }
    },
    {
      "cell_type": "code",
      "source": [],
      "metadata": {
        "id": "XZkWuz5PkJKz"
      },
      "execution_count": null,
      "outputs": []
    },
    {
      "cell_type": "code",
      "source": [],
      "metadata": {
        "id": "wH49XeKmkJAk"
      },
      "execution_count": null,
      "outputs": []
    },
    {
      "cell_type": "markdown",
      "source": [
        "## Работа с признаками"
      ],
      "metadata": {
        "id": "8jjLU6LfkEXo"
      }
    },
    {
      "cell_type": "code",
      "source": [],
      "metadata": {
        "id": "04rnC4ZNkH-W"
      },
      "execution_count": null,
      "outputs": []
    },
    {
      "cell_type": "code",
      "source": [],
      "metadata": {
        "id": "-4pQ7uzFkH0p"
      },
      "execution_count": null,
      "outputs": []
    },
    {
      "cell_type": "markdown",
      "metadata": {
        "id": "Z8q5tYgLRXxB"
      },
      "source": [
        "## Выбор и обучение моделей"
      ]
    },
    {
      "cell_type": "code",
      "source": [],
      "metadata": {
        "id": "j1RiZZM1kJsA"
      },
      "execution_count": null,
      "outputs": []
    },
    {
      "cell_type": "code",
      "source": [],
      "metadata": {
        "id": "lpM7aKb8jq-M"
      },
      "execution_count": null,
      "outputs": []
    },
    {
      "cell_type": "markdown",
      "metadata": {
        "id": "DKCtMvNlR5sf"
      },
      "source": [
        "## Оценка качества"
      ]
    },
    {
      "cell_type": "code",
      "source": [],
      "metadata": {
        "id": "mNu1Q_l_kKEf"
      },
      "execution_count": null,
      "outputs": []
    },
    {
      "cell_type": "code",
      "source": [],
      "metadata": {
        "id": "hauX4570jumC"
      },
      "execution_count": null,
      "outputs": []
    },
    {
      "cell_type": "markdown",
      "source": [
        "## Анализ важности признаков модели"
      ],
      "metadata": {
        "id": "xym1_x6Alo8o"
      }
    },
    {
      "cell_type": "code",
      "source": [],
      "metadata": {
        "id": "QVoP-8_IlsS0"
      },
      "execution_count": null,
      "outputs": []
    },
    {
      "cell_type": "code",
      "source": [],
      "metadata": {
        "id": "JkoTDfxfmJuo"
      },
      "execution_count": null,
      "outputs": []
    }
  ],
  "metadata": {
    "colab": {
      "provenance": [],
      "include_colab_link": true
    },
    "kernelspec": {
      "display_name": "Python 3 (ipykernel)",
      "language": "python",
      "name": "python3"
    },
    "language_info": {
      "codemirror_mode": {
        "name": "ipython",
        "version": 3
      },
      "file_extension": ".py",
      "mimetype": "text/x-python",
      "name": "python",
      "nbconvert_exporter": "python",
      "pygments_lexer": "ipython3",
      "version": "3.8.12"
    },
    "toc": {
      "base_numbering": 1,
      "nav_menu": {},
      "number_sections": true,
      "sideBar": true,
      "skip_h1_title": true,
      "title_cell": "Table of Contents",
      "title_sidebar": "Contents",
      "toc_cell": false,
      "toc_position": {},
      "toc_section_display": true,
      "toc_window_display": false
    }
  },
  "nbformat": 4,
  "nbformat_minor": 0
}