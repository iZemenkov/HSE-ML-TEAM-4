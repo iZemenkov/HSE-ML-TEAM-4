{
  "cells": [
    {
      "cell_type": "markdown",
      "metadata": {
        "id": "view-in-github",
        "colab_type": "text"
      },
      "source": [
        "<a href=\"https://colab.research.google.com/github/kirillkobychev/HSE-ML-TEAM-4/blob/kirill-dev/Project_Music_genre_prediction.ipynb\" target=\"_parent\"><img src=\"https://colab.research.google.com/assets/colab-badge.svg\" alt=\"Open In Colab\"/></a>"
      ]
    },
    {
      "cell_type": "markdown",
      "metadata": {
        "id": "UzskdJLJG6-B"
      },
      "source": [
        "# Music genre prediction"
      ]
    },
    {
      "cell_type": "markdown",
      "metadata": {
        "id": "VEmvv_QjG_VK"
      },
      "source": [
        "**Описание задачи**\n",
        "\n",
        "Вы сотрудник Отдела Data Science популярного музыкального стримингового сервиса. Сервис расширяет работу с новыми артистами и музыкантами, в связи с чем возникла задача -- правильно классифицировать новые музыкальные треки, чтобы улучшить работу рекомендательной системы. Ваши коллеги из отдела работы со звуком подготовили датасет, в котором собраны некоторые характеристики музыкальных произведений и их жанры. Ваша задача - разработать модель, позволяющую классифицировать музыкальные произведения по жанрам."
      ]
    },
    {
      "cell_type": "markdown",
      "source": [
        "В ходе работы пройдите все основные этапы полноценного исследования:\n",
        "\n",
        "*  загрузка и ознакомление с данными\n",
        "*  предварительная обработка\n",
        "*  полноценный разведочный анализ\n",
        "*  разработка новых синтетических признаков\n",
        "*  проверка на мультиколлинеарность\n",
        "*  отбор финального набора обучающих признаков\n",
        "*  выбор и обучение моделей\n",
        "*  итоговая оценка качества предсказания лучшей модели\n",
        "*  анализ важности ее признаков\n",
        "\n",
        "**ВАЖНО**  \n",
        "Необходимо реализовать решение с использованием технологии `pipeline` (из библиотеки `sklearn`)"
      ],
      "metadata": {
        "id": "n2eyK2PYgTUx"
      }
    },
    {
      "cell_type": "markdown",
      "source": [
        "**ОЖИДАЕМЫЙ РЕЗУЛЬТАТ**\n",
        "\n",
        "* Оформленный репозиторий на GitHub (ноутбук с исследованием + код приложения)\n",
        "* Развернутое web-приложение (с использованием библиотеки Streamlit)"
      ],
      "metadata": {
        "id": "cKiE8GeWiuk6"
      }
    },
    {
      "cell_type": "markdown",
      "source": [
        "## Участники проекта, репозиторий, приложение"
      ],
      "metadata": {
        "id": "vjyDN19upagN"
      }
    },
    {
      "cell_type": "markdown",
      "source": [
        "Кобычев Кирилл, @hikoby"
      ],
      "metadata": {
        "id": "Fc7hKssHphI5"
      }
    },
    {
      "cell_type": "markdown",
      "source": [
        "Иванов Егор, @Jaibesiondaide"
      ],
      "metadata": {
        "id": "JXbgFQ4XpsRY"
      }
    },
    {
      "cell_type": "markdown",
      "source": [
        "Игорь Земенков, @iZemM"
      ],
      "metadata": {
        "id": "UjfYpv2g7vWq"
      }
    },
    {
      "cell_type": "markdown",
      "source": [
        "https://github.com/kirillkobychev/HSE-ML-TEAM-4"
      ],
      "metadata": {
        "id": "9oPtdaKx71Oy"
      }
    },
    {
      "cell_type": "markdown",
      "metadata": {
        "id": "upi7CiS5HGqL"
      },
      "source": [
        "## Импорт библиотек, установка констант"
      ]
    },
    {
      "cell_type": "code",
      "execution_count": 1,
      "metadata": {
        "id": "SsOojBMIIWJ5"
      },
      "outputs": [],
      "source": [
        "%%capture\n",
        "!pip install catboost -q\n",
        "!pip install ydata-profiling"
      ]
    },
    {
      "cell_type": "code",
      "execution_count": 2,
      "metadata": {
        "id": "m6qnUHR9G5Ld",
        "outputId": "52261893-ee47-44a3-c981-2565ea1e8ae5",
        "colab": {
          "base_uri": "https://localhost:8080/",
          "height": 64
        }
      },
      "outputs": [
        {
          "output_type": "display_data",
          "data": {
            "text/plain": [
              "<IPython.core.display.HTML object>"
            ],
            "text/html": [
              "\n",
              "            <div>\n",
              "                <ins><a href=\"https://ydata.ai/register\">Upgrade to ydata-sdk</a></ins>\n",
              "                <p>\n",
              "                    Improve your data and profiling with ydata-sdk, featuring data quality scoring, redundancy detection, outlier identification, text validation, and synthetic data generation.\n",
              "                </p>\n",
              "            </div>\n",
              "            "
            ]
          },
          "metadata": {}
        }
      ],
      "source": [
        "import pandas as pd\n",
        "import numpy as np\n",
        "\n",
        "from sklearn.model_selection import train_test_split\n",
        "from sklearn.metrics import f1_score\n",
        "from catboost import CatBoostClassifier\n",
        "\n",
        "from ydata_profiling import ProfileReport"
      ]
    },
    {
      "cell_type": "code",
      "execution_count": 3,
      "metadata": {
        "id": "lDS-n392MZiL"
      },
      "outputs": [],
      "source": [
        "TRAIN = \"https://www.dropbox.com/scl/fi/5zy935lqpaqr9lat76ung/music_genre_train.csv?rlkey=ccovu9ml8pfi9whk1ba26zdda&dl=1\"\n",
        "TEST = \"https://www.dropbox.com/scl/fi/o6mvsowpp9r3k2lejuegt/music_genre_test.csv?rlkey=ac14ydue0rzlh880jwj3ebum4&dl=1\""
      ]
    },
    {
      "cell_type": "code",
      "execution_count": 4,
      "metadata": {
        "id": "CHWpPqWyRkBp"
      },
      "outputs": [],
      "source": [
        "RANDOM_STATE = 42\n",
        "TEST_SIZE = 0.25"
      ]
    },
    {
      "cell_type": "markdown",
      "metadata": {
        "id": "2KtnoyfHNIVT"
      },
      "source": [
        "## Загрузка и обзор данных"
      ]
    },
    {
      "cell_type": "code",
      "execution_count": 5,
      "metadata": {
        "id": "S7wsfpGRNKG3"
      },
      "outputs": [],
      "source": [
        "train = pd.read_csv(TRAIN)\n",
        "test = pd.read_csv(TEST)"
      ]
    },
    {
      "cell_type": "code",
      "execution_count": 6,
      "metadata": {
        "colab": {
          "base_uri": "https://localhost:8080/",
          "height": 399
        },
        "id": "loLY3GVFN5jI",
        "outputId": "1e540425-3933-4974-d179-7f524f1336d9"
      },
      "outputs": [
        {
          "output_type": "execute_result",
          "data": {
            "text/plain": [
              "       instance_id                                         track_name  \\\n",
              "8735       41530.0                                           Santeria   \n",
              "2700       74007.0             2 Legenden: La prédication aux oiseaux   \n",
              "14334      75467.0                                        K.I.S.S.E.S   \n",
              "1231       27489.0                                Roses - Jengi Remix   \n",
              "4732       47190.0  Bertha - Live at the Fillmore East, New York, ...   \n",
              "\n",
              "       acousticness  danceability  duration_ms  energy  instrumentalness key  \\\n",
              "8735        0.14200         0.621     176027.0  0.6780          0.000000  G#   \n",
              "2700        0.98500         0.334     596240.0  0.0431          0.946000   E   \n",
              "14334       0.00556         0.625     315347.0  0.8000          0.386000  C#   \n",
              "1231        0.16000         0.792     238560.0  0.6790          0.000238   F   \n",
              "4732        0.41300         0.540     342107.0  0.5690          0.809000   G   \n",
              "\n",
              "       liveness  loudness   mode  speechiness    tempo obtained_date  valence  \\\n",
              "8735     0.0980    -4.104  Major       0.1970   88.677         4-Apr   0.0883   \n",
              "2700     0.1780   -26.986  Major       0.0509   66.242         4-Apr   0.0536   \n",
              "14334    0.0751    -8.161  Major       0.0458  107.258         4-Apr   0.4670   \n",
              "1231     0.1110    -7.271  Minor       0.0587  125.004         4-Apr   0.5570   \n",
              "4732     0.5250   -14.857  Major       0.0338   88.749         4-Apr   0.9390   \n",
              "\n",
              "      music_genre  \n",
              "8735          Rap  \n",
              "2700    Classical  \n",
              "14334  Electronic  \n",
              "1231   Electronic  \n",
              "4732         Rock  "
            ],
            "text/html": [
              "\n",
              "  <div id=\"df-65219aea-b5bb-4659-b25b-e681e3dd834c\" class=\"colab-df-container\">\n",
              "    <div>\n",
              "<style scoped>\n",
              "    .dataframe tbody tr th:only-of-type {\n",
              "        vertical-align: middle;\n",
              "    }\n",
              "\n",
              "    .dataframe tbody tr th {\n",
              "        vertical-align: top;\n",
              "    }\n",
              "\n",
              "    .dataframe thead th {\n",
              "        text-align: right;\n",
              "    }\n",
              "</style>\n",
              "<table border=\"1\" class=\"dataframe\">\n",
              "  <thead>\n",
              "    <tr style=\"text-align: right;\">\n",
              "      <th></th>\n",
              "      <th>instance_id</th>\n",
              "      <th>track_name</th>\n",
              "      <th>acousticness</th>\n",
              "      <th>danceability</th>\n",
              "      <th>duration_ms</th>\n",
              "      <th>energy</th>\n",
              "      <th>instrumentalness</th>\n",
              "      <th>key</th>\n",
              "      <th>liveness</th>\n",
              "      <th>loudness</th>\n",
              "      <th>mode</th>\n",
              "      <th>speechiness</th>\n",
              "      <th>tempo</th>\n",
              "      <th>obtained_date</th>\n",
              "      <th>valence</th>\n",
              "      <th>music_genre</th>\n",
              "    </tr>\n",
              "  </thead>\n",
              "  <tbody>\n",
              "    <tr>\n",
              "      <th>8735</th>\n",
              "      <td>41530.0</td>\n",
              "      <td>Santeria</td>\n",
              "      <td>0.14200</td>\n",
              "      <td>0.621</td>\n",
              "      <td>176027.0</td>\n",
              "      <td>0.6780</td>\n",
              "      <td>0.000000</td>\n",
              "      <td>G#</td>\n",
              "      <td>0.0980</td>\n",
              "      <td>-4.104</td>\n",
              "      <td>Major</td>\n",
              "      <td>0.1970</td>\n",
              "      <td>88.677</td>\n",
              "      <td>4-Apr</td>\n",
              "      <td>0.0883</td>\n",
              "      <td>Rap</td>\n",
              "    </tr>\n",
              "    <tr>\n",
              "      <th>2700</th>\n",
              "      <td>74007.0</td>\n",
              "      <td>2 Legenden: La prédication aux oiseaux</td>\n",
              "      <td>0.98500</td>\n",
              "      <td>0.334</td>\n",
              "      <td>596240.0</td>\n",
              "      <td>0.0431</td>\n",
              "      <td>0.946000</td>\n",
              "      <td>E</td>\n",
              "      <td>0.1780</td>\n",
              "      <td>-26.986</td>\n",
              "      <td>Major</td>\n",
              "      <td>0.0509</td>\n",
              "      <td>66.242</td>\n",
              "      <td>4-Apr</td>\n",
              "      <td>0.0536</td>\n",
              "      <td>Classical</td>\n",
              "    </tr>\n",
              "    <tr>\n",
              "      <th>14334</th>\n",
              "      <td>75467.0</td>\n",
              "      <td>K.I.S.S.E.S</td>\n",
              "      <td>0.00556</td>\n",
              "      <td>0.625</td>\n",
              "      <td>315347.0</td>\n",
              "      <td>0.8000</td>\n",
              "      <td>0.386000</td>\n",
              "      <td>C#</td>\n",
              "      <td>0.0751</td>\n",
              "      <td>-8.161</td>\n",
              "      <td>Major</td>\n",
              "      <td>0.0458</td>\n",
              "      <td>107.258</td>\n",
              "      <td>4-Apr</td>\n",
              "      <td>0.4670</td>\n",
              "      <td>Electronic</td>\n",
              "    </tr>\n",
              "    <tr>\n",
              "      <th>1231</th>\n",
              "      <td>27489.0</td>\n",
              "      <td>Roses - Jengi Remix</td>\n",
              "      <td>0.16000</td>\n",
              "      <td>0.792</td>\n",
              "      <td>238560.0</td>\n",
              "      <td>0.6790</td>\n",
              "      <td>0.000238</td>\n",
              "      <td>F</td>\n",
              "      <td>0.1110</td>\n",
              "      <td>-7.271</td>\n",
              "      <td>Minor</td>\n",
              "      <td>0.0587</td>\n",
              "      <td>125.004</td>\n",
              "      <td>4-Apr</td>\n",
              "      <td>0.5570</td>\n",
              "      <td>Electronic</td>\n",
              "    </tr>\n",
              "    <tr>\n",
              "      <th>4732</th>\n",
              "      <td>47190.0</td>\n",
              "      <td>Bertha - Live at the Fillmore East, New York, ...</td>\n",
              "      <td>0.41300</td>\n",
              "      <td>0.540</td>\n",
              "      <td>342107.0</td>\n",
              "      <td>0.5690</td>\n",
              "      <td>0.809000</td>\n",
              "      <td>G</td>\n",
              "      <td>0.5250</td>\n",
              "      <td>-14.857</td>\n",
              "      <td>Major</td>\n",
              "      <td>0.0338</td>\n",
              "      <td>88.749</td>\n",
              "      <td>4-Apr</td>\n",
              "      <td>0.9390</td>\n",
              "      <td>Rock</td>\n",
              "    </tr>\n",
              "  </tbody>\n",
              "</table>\n",
              "</div>\n",
              "    <div class=\"colab-df-buttons\">\n",
              "\n",
              "  <div class=\"colab-df-container\">\n",
              "    <button class=\"colab-df-convert\" onclick=\"convertToInteractive('df-65219aea-b5bb-4659-b25b-e681e3dd834c')\"\n",
              "            title=\"Convert this dataframe to an interactive table.\"\n",
              "            style=\"display:none;\">\n",
              "\n",
              "  <svg xmlns=\"http://www.w3.org/2000/svg\" height=\"24px\" viewBox=\"0 -960 960 960\">\n",
              "    <path d=\"M120-120v-720h720v720H120Zm60-500h600v-160H180v160Zm220 220h160v-160H400v160Zm0 220h160v-160H400v160ZM180-400h160v-160H180v160Zm440 0h160v-160H620v160ZM180-180h160v-160H180v160Zm440 0h160v-160H620v160Z\"/>\n",
              "  </svg>\n",
              "    </button>\n",
              "\n",
              "  <style>\n",
              "    .colab-df-container {\n",
              "      display:flex;\n",
              "      gap: 12px;\n",
              "    }\n",
              "\n",
              "    .colab-df-convert {\n",
              "      background-color: #E8F0FE;\n",
              "      border: none;\n",
              "      border-radius: 50%;\n",
              "      cursor: pointer;\n",
              "      display: none;\n",
              "      fill: #1967D2;\n",
              "      height: 32px;\n",
              "      padding: 0 0 0 0;\n",
              "      width: 32px;\n",
              "    }\n",
              "\n",
              "    .colab-df-convert:hover {\n",
              "      background-color: #E2EBFA;\n",
              "      box-shadow: 0px 1px 2px rgba(60, 64, 67, 0.3), 0px 1px 3px 1px rgba(60, 64, 67, 0.15);\n",
              "      fill: #174EA6;\n",
              "    }\n",
              "\n",
              "    .colab-df-buttons div {\n",
              "      margin-bottom: 4px;\n",
              "    }\n",
              "\n",
              "    [theme=dark] .colab-df-convert {\n",
              "      background-color: #3B4455;\n",
              "      fill: #D2E3FC;\n",
              "    }\n",
              "\n",
              "    [theme=dark] .colab-df-convert:hover {\n",
              "      background-color: #434B5C;\n",
              "      box-shadow: 0px 1px 3px 1px rgba(0, 0, 0, 0.15);\n",
              "      filter: drop-shadow(0px 1px 2px rgba(0, 0, 0, 0.3));\n",
              "      fill: #FFFFFF;\n",
              "    }\n",
              "  </style>\n",
              "\n",
              "    <script>\n",
              "      const buttonEl =\n",
              "        document.querySelector('#df-65219aea-b5bb-4659-b25b-e681e3dd834c button.colab-df-convert');\n",
              "      buttonEl.style.display =\n",
              "        google.colab.kernel.accessAllowed ? 'block' : 'none';\n",
              "\n",
              "      async function convertToInteractive(key) {\n",
              "        const element = document.querySelector('#df-65219aea-b5bb-4659-b25b-e681e3dd834c');\n",
              "        const dataTable =\n",
              "          await google.colab.kernel.invokeFunction('convertToInteractive',\n",
              "                                                    [key], {});\n",
              "        if (!dataTable) return;\n",
              "\n",
              "        const docLinkHtml = 'Like what you see? Visit the ' +\n",
              "          '<a target=\"_blank\" href=https://colab.research.google.com/notebooks/data_table.ipynb>data table notebook</a>'\n",
              "          + ' to learn more about interactive tables.';\n",
              "        element.innerHTML = '';\n",
              "        dataTable['output_type'] = 'display_data';\n",
              "        await google.colab.output.renderOutput(dataTable, element);\n",
              "        const docLink = document.createElement('div');\n",
              "        docLink.innerHTML = docLinkHtml;\n",
              "        element.appendChild(docLink);\n",
              "      }\n",
              "    </script>\n",
              "  </div>\n",
              "\n",
              "\n",
              "    <div id=\"df-1160929b-baa9-4eb5-8d6b-800846896b0d\">\n",
              "      <button class=\"colab-df-quickchart\" onclick=\"quickchart('df-1160929b-baa9-4eb5-8d6b-800846896b0d')\"\n",
              "                title=\"Suggest charts\"\n",
              "                style=\"display:none;\">\n",
              "\n",
              "<svg xmlns=\"http://www.w3.org/2000/svg\" height=\"24px\"viewBox=\"0 0 24 24\"\n",
              "     width=\"24px\">\n",
              "    <g>\n",
              "        <path d=\"M19 3H5c-1.1 0-2 .9-2 2v14c0 1.1.9 2 2 2h14c1.1 0 2-.9 2-2V5c0-1.1-.9-2-2-2zM9 17H7v-7h2v7zm4 0h-2V7h2v10zm4 0h-2v-4h2v4z\"/>\n",
              "    </g>\n",
              "</svg>\n",
              "      </button>\n",
              "\n",
              "<style>\n",
              "  .colab-df-quickchart {\n",
              "      --bg-color: #E8F0FE;\n",
              "      --fill-color: #1967D2;\n",
              "      --hover-bg-color: #E2EBFA;\n",
              "      --hover-fill-color: #174EA6;\n",
              "      --disabled-fill-color: #AAA;\n",
              "      --disabled-bg-color: #DDD;\n",
              "  }\n",
              "\n",
              "  [theme=dark] .colab-df-quickchart {\n",
              "      --bg-color: #3B4455;\n",
              "      --fill-color: #D2E3FC;\n",
              "      --hover-bg-color: #434B5C;\n",
              "      --hover-fill-color: #FFFFFF;\n",
              "      --disabled-bg-color: #3B4455;\n",
              "      --disabled-fill-color: #666;\n",
              "  }\n",
              "\n",
              "  .colab-df-quickchart {\n",
              "    background-color: var(--bg-color);\n",
              "    border: none;\n",
              "    border-radius: 50%;\n",
              "    cursor: pointer;\n",
              "    display: none;\n",
              "    fill: var(--fill-color);\n",
              "    height: 32px;\n",
              "    padding: 0;\n",
              "    width: 32px;\n",
              "  }\n",
              "\n",
              "  .colab-df-quickchart:hover {\n",
              "    background-color: var(--hover-bg-color);\n",
              "    box-shadow: 0 1px 2px rgba(60, 64, 67, 0.3), 0 1px 3px 1px rgba(60, 64, 67, 0.15);\n",
              "    fill: var(--button-hover-fill-color);\n",
              "  }\n",
              "\n",
              "  .colab-df-quickchart-complete:disabled,\n",
              "  .colab-df-quickchart-complete:disabled:hover {\n",
              "    background-color: var(--disabled-bg-color);\n",
              "    fill: var(--disabled-fill-color);\n",
              "    box-shadow: none;\n",
              "  }\n",
              "\n",
              "  .colab-df-spinner {\n",
              "    border: 2px solid var(--fill-color);\n",
              "    border-color: transparent;\n",
              "    border-bottom-color: var(--fill-color);\n",
              "    animation:\n",
              "      spin 1s steps(1) infinite;\n",
              "  }\n",
              "\n",
              "  @keyframes spin {\n",
              "    0% {\n",
              "      border-color: transparent;\n",
              "      border-bottom-color: var(--fill-color);\n",
              "      border-left-color: var(--fill-color);\n",
              "    }\n",
              "    20% {\n",
              "      border-color: transparent;\n",
              "      border-left-color: var(--fill-color);\n",
              "      border-top-color: var(--fill-color);\n",
              "    }\n",
              "    30% {\n",
              "      border-color: transparent;\n",
              "      border-left-color: var(--fill-color);\n",
              "      border-top-color: var(--fill-color);\n",
              "      border-right-color: var(--fill-color);\n",
              "    }\n",
              "    40% {\n",
              "      border-color: transparent;\n",
              "      border-right-color: var(--fill-color);\n",
              "      border-top-color: var(--fill-color);\n",
              "    }\n",
              "    60% {\n",
              "      border-color: transparent;\n",
              "      border-right-color: var(--fill-color);\n",
              "    }\n",
              "    80% {\n",
              "      border-color: transparent;\n",
              "      border-right-color: var(--fill-color);\n",
              "      border-bottom-color: var(--fill-color);\n",
              "    }\n",
              "    90% {\n",
              "      border-color: transparent;\n",
              "      border-bottom-color: var(--fill-color);\n",
              "    }\n",
              "  }\n",
              "</style>\n",
              "\n",
              "      <script>\n",
              "        async function quickchart(key) {\n",
              "          const quickchartButtonEl =\n",
              "            document.querySelector('#' + key + ' button');\n",
              "          quickchartButtonEl.disabled = true;  // To prevent multiple clicks.\n",
              "          quickchartButtonEl.classList.add('colab-df-spinner');\n",
              "          try {\n",
              "            const charts = await google.colab.kernel.invokeFunction(\n",
              "                'suggestCharts', [key], {});\n",
              "          } catch (error) {\n",
              "            console.error('Error during call to suggestCharts:', error);\n",
              "          }\n",
              "          quickchartButtonEl.classList.remove('colab-df-spinner');\n",
              "          quickchartButtonEl.classList.add('colab-df-quickchart-complete');\n",
              "        }\n",
              "        (() => {\n",
              "          let quickchartButtonEl =\n",
              "            document.querySelector('#df-1160929b-baa9-4eb5-8d6b-800846896b0d button');\n",
              "          quickchartButtonEl.style.display =\n",
              "            google.colab.kernel.accessAllowed ? 'block' : 'none';\n",
              "        })();\n",
              "      </script>\n",
              "    </div>\n",
              "    </div>\n",
              "  </div>\n"
            ],
            "application/vnd.google.colaboratory.intrinsic+json": {
              "type": "dataframe",
              "summary": "{\n  \"name\": \"train\",\n  \"rows\": 5,\n  \"fields\": [\n    {\n      \"column\": \"instance_id\",\n      \"properties\": {\n        \"dtype\": \"number\",\n        \"std\": 20988.65742014005,\n        \"min\": 27489.0,\n        \"max\": 75467.0,\n        \"num_unique_values\": 5,\n        \"samples\": [\n          74007.0,\n          47190.0,\n          75467.0\n        ],\n        \"semantic_type\": \"\",\n        \"description\": \"\"\n      }\n    },\n    {\n      \"column\": \"track_name\",\n      \"properties\": {\n        \"dtype\": \"string\",\n        \"num_unique_values\": 5,\n        \"samples\": [\n          \"2 Legenden: La pr\\u00e9dication aux oiseaux\",\n          \"Bertha - Live at the Fillmore East, New York, NY 4/27/71; 2018 Remaster\",\n          \"K.I.S.S.E.S\"\n        ],\n        \"semantic_type\": \"\",\n        \"description\": \"\"\n      }\n    },\n    {\n      \"column\": \"acousticness\",\n      \"properties\": {\n        \"dtype\": \"number\",\n        \"std\": 0.38884506261491864,\n        \"min\": 0.00556,\n        \"max\": 0.985,\n        \"num_unique_values\": 5,\n        \"samples\": [\n          0.985,\n          0.413,\n          0.00556\n        ],\n        \"semantic_type\": \"\",\n        \"description\": \"\"\n      }\n    },\n    {\n      \"column\": \"danceability\",\n      \"properties\": {\n        \"dtype\": \"number\",\n        \"std\": 0.16638599700695972,\n        \"min\": 0.3339999999999999,\n        \"max\": 0.792,\n        \"num_unique_values\": 5,\n        \"samples\": [\n          0.3339999999999999,\n          0.54,\n          0.625\n        ],\n        \"semantic_type\": \"\",\n        \"description\": \"\"\n      }\n    },\n    {\n      \"column\": \"duration_ms\",\n      \"properties\": {\n        \"dtype\": \"number\",\n        \"std\": 160660.4702429941,\n        \"min\": 176027.0,\n        \"max\": 596240.0,\n        \"num_unique_values\": 5,\n        \"samples\": [\n          596240.0,\n          342107.0,\n          315347.0\n        ],\n        \"semantic_type\": \"\",\n        \"description\": \"\"\n      }\n    },\n    {\n      \"column\": \"energy\",\n      \"properties\": {\n        \"dtype\": \"number\",\n        \"std\": 0.2969682845018976,\n        \"min\": 0.0431,\n        \"max\": 0.8,\n        \"num_unique_values\": 5,\n        \"samples\": [\n          0.0431,\n          0.569,\n          0.8\n        ],\n        \"semantic_type\": \"\",\n        \"description\": \"\"\n      }\n    },\n    {\n      \"column\": \"instrumentalness\",\n      \"properties\": {\n        \"dtype\": \"number\",\n        \"std\": 0.44198784545369574,\n        \"min\": 0.0,\n        \"max\": 0.946,\n        \"num_unique_values\": 5,\n        \"samples\": [\n          0.946,\n          0.809,\n          0.386\n        ],\n        \"semantic_type\": \"\",\n        \"description\": \"\"\n      }\n    },\n    {\n      \"column\": \"key\",\n      \"properties\": {\n        \"dtype\": \"string\",\n        \"num_unique_values\": 5,\n        \"samples\": [\n          \"E\",\n          \"G\",\n          \"C#\"\n        ],\n        \"semantic_type\": \"\",\n        \"description\": \"\"\n      }\n    },\n    {\n      \"column\": \"liveness\",\n      \"properties\": {\n        \"dtype\": \"number\",\n        \"std\": 0.18708335575352503,\n        \"min\": 0.0751,\n        \"max\": 0.525,\n        \"num_unique_values\": 5,\n        \"samples\": [\n          0.178,\n          0.525,\n          0.0751\n        ],\n        \"semantic_type\": \"\",\n        \"description\": \"\"\n      }\n    },\n    {\n      \"column\": \"loudness\",\n      \"properties\": {\n        \"dtype\": \"number\",\n        \"std\": 9.107833095747859,\n        \"min\": -26.986,\n        \"max\": -4.104,\n        \"num_unique_values\": 5,\n        \"samples\": [\n          -26.986,\n          -14.857,\n          -8.161\n        ],\n        \"semantic_type\": \"\",\n        \"description\": \"\"\n      }\n    },\n    {\n      \"column\": \"mode\",\n      \"properties\": {\n        \"dtype\": \"category\",\n        \"num_unique_values\": 2,\n        \"samples\": [\n          \"Minor\",\n          \"Major\"\n        ],\n        \"semantic_type\": \"\",\n        \"description\": \"\"\n      }\n    },\n    {\n      \"column\": \"speechiness\",\n      \"properties\": {\n        \"dtype\": \"number\",\n        \"std\": 0.06755644306800052,\n        \"min\": 0.0338,\n        \"max\": 0.1969999999999999,\n        \"num_unique_values\": 5,\n        \"samples\": [\n          0.0509,\n          0.0338\n        ],\n        \"semantic_type\": \"\",\n        \"description\": \"\"\n      }\n    },\n    {\n      \"column\": \"tempo\",\n      \"properties\": {\n        \"dtype\": \"number\",\n        \"std\": 22.11562509855871,\n        \"min\": 66.242,\n        \"max\": 125.004,\n        \"num_unique_values\": 5,\n        \"samples\": [\n          66.242,\n          88.749\n        ],\n        \"semantic_type\": \"\",\n        \"description\": \"\"\n      }\n    },\n    {\n      \"column\": \"obtained_date\",\n      \"properties\": {\n        \"dtype\": \"category\",\n        \"num_unique_values\": 1,\n        \"samples\": [\n          \"4-Apr\"\n        ],\n        \"semantic_type\": \"\",\n        \"description\": \"\"\n      }\n    },\n    {\n      \"column\": \"valence\",\n      \"properties\": {\n        \"dtype\": \"number\",\n        \"std\": 0.3655844799769268,\n        \"min\": 0.0536,\n        \"max\": 0.939,\n        \"num_unique_values\": 5,\n        \"samples\": [\n          0.0536\n        ],\n        \"semantic_type\": \"\",\n        \"description\": \"\"\n      }\n    },\n    {\n      \"column\": \"music_genre\",\n      \"properties\": {\n        \"dtype\": \"string\",\n        \"num_unique_values\": 4,\n        \"samples\": [\n          \"Classical\"\n        ],\n        \"semantic_type\": \"\",\n        \"description\": \"\"\n      }\n    }\n  ]\n}"
            }
          },
          "metadata": {},
          "execution_count": 6
        }
      ],
      "source": [
        "train.sample(5)"
      ]
    },
    {
      "cell_type": "markdown",
      "metadata": {
        "id": "SiKqp1lxOs_y"
      },
      "source": [
        "**Описание полей данных**\n",
        "\n",
        "`instance_id` - уникальный идентификатор трека  \n",
        "`track_name` - название трека  \n",
        "`acousticness` - акустичность  \n",
        "`danceability` - танцевальность  \n",
        "`duration_ms` -продолжительность в милисекундах  \n",
        "`energy` - энергичность  \n",
        "`instrumentalness` - инструментальность  \n",
        "**`key` - тональность**  \n",
        "`liveness` - привлекательность  \n",
        "`loudness` - громкость  \n",
        "**`mode` - наклонение**  \n",
        "`speechiness` - выразительность  \n",
        "**`tempo` - темп**  \n",
        "`obtained_date` - дата загрузки в сервис  \n",
        "`valence` - привлекательность произведения для пользователей сервиса  \n",
        "`music_genre` - музыкальный жанр"
      ]
    },
    {
      "cell_type": "markdown",
      "metadata": {
        "id": "ISIPhbS3RD3f"
      },
      "source": [
        "## Предварительная обработка данных"
      ]
    },
    {
      "cell_type": "code",
      "source": [
        "train.head()"
      ],
      "metadata": {
        "id": "k-7r-wHPkKoc",
        "colab": {
          "base_uri": "https://localhost:8080/",
          "height": 313
        },
        "outputId": "9942b2f3-8f26-48c7-9618-c34e023deba2"
      },
      "execution_count": 31,
      "outputs": [
        {
          "output_type": "execute_result",
          "data": {
            "text/plain": [
              "   instance_id                  track_name  acousticness  danceability  \\\n",
              "0      25143.0                  Highwayman        0.4800         0.670   \n",
              "1      26091.0       Toes Across The Floor        0.2430         0.452   \n",
              "2      87888.0       First Person on Earth        0.2280         0.454   \n",
              "3      77021.0  No Te Veo - Digital Single        0.0558         0.847   \n",
              "4      20852.0             Chasing Shadows        0.2270         0.742   \n",
              "\n",
              "   duration_ms  energy  instrumentalness key  liveness  loudness   mode  \\\n",
              "0     182653.0   0.351          0.017600   D     0.115   -16.842  Major   \n",
              "1     187133.0   0.670          0.000051   A     0.108    -8.392  Minor   \n",
              "2     173448.0   0.804          0.000000   E     0.181    -5.225  Minor   \n",
              "3     255987.0   0.873          0.000003  G#     0.325    -4.805  Minor   \n",
              "4     195333.0   0.575          0.000002   C     0.176    -5.550  Major   \n",
              "\n",
              "   speechiness    tempo obtained_date  valence  music_genre  \n",
              "0       0.0463  101.384         4-Apr    0.450      Country  \n",
              "1       0.0352  113.071         4-Apr    0.539         Rock  \n",
              "2       0.3710   80.980         4-Apr    0.344  Alternative  \n",
              "3       0.0804  116.007         4-Apr    0.966      Hip-Hop  \n",
              "4       0.0487   76.494         4-Apr    0.583  Alternative  "
            ],
            "text/html": [
              "\n",
              "  <div id=\"df-a8848034-9094-433a-a0b2-d2894d97c7b8\" class=\"colab-df-container\">\n",
              "    <div>\n",
              "<style scoped>\n",
              "    .dataframe tbody tr th:only-of-type {\n",
              "        vertical-align: middle;\n",
              "    }\n",
              "\n",
              "    .dataframe tbody tr th {\n",
              "        vertical-align: top;\n",
              "    }\n",
              "\n",
              "    .dataframe thead th {\n",
              "        text-align: right;\n",
              "    }\n",
              "</style>\n",
              "<table border=\"1\" class=\"dataframe\">\n",
              "  <thead>\n",
              "    <tr style=\"text-align: right;\">\n",
              "      <th></th>\n",
              "      <th>instance_id</th>\n",
              "      <th>track_name</th>\n",
              "      <th>acousticness</th>\n",
              "      <th>danceability</th>\n",
              "      <th>duration_ms</th>\n",
              "      <th>energy</th>\n",
              "      <th>instrumentalness</th>\n",
              "      <th>key</th>\n",
              "      <th>liveness</th>\n",
              "      <th>loudness</th>\n",
              "      <th>mode</th>\n",
              "      <th>speechiness</th>\n",
              "      <th>tempo</th>\n",
              "      <th>obtained_date</th>\n",
              "      <th>valence</th>\n",
              "      <th>music_genre</th>\n",
              "    </tr>\n",
              "  </thead>\n",
              "  <tbody>\n",
              "    <tr>\n",
              "      <th>0</th>\n",
              "      <td>25143.0</td>\n",
              "      <td>Highwayman</td>\n",
              "      <td>0.4800</td>\n",
              "      <td>0.670</td>\n",
              "      <td>182653.0</td>\n",
              "      <td>0.351</td>\n",
              "      <td>0.017600</td>\n",
              "      <td>D</td>\n",
              "      <td>0.115</td>\n",
              "      <td>-16.842</td>\n",
              "      <td>Major</td>\n",
              "      <td>0.0463</td>\n",
              "      <td>101.384</td>\n",
              "      <td>4-Apr</td>\n",
              "      <td>0.450</td>\n",
              "      <td>Country</td>\n",
              "    </tr>\n",
              "    <tr>\n",
              "      <th>1</th>\n",
              "      <td>26091.0</td>\n",
              "      <td>Toes Across The Floor</td>\n",
              "      <td>0.2430</td>\n",
              "      <td>0.452</td>\n",
              "      <td>187133.0</td>\n",
              "      <td>0.670</td>\n",
              "      <td>0.000051</td>\n",
              "      <td>A</td>\n",
              "      <td>0.108</td>\n",
              "      <td>-8.392</td>\n",
              "      <td>Minor</td>\n",
              "      <td>0.0352</td>\n",
              "      <td>113.071</td>\n",
              "      <td>4-Apr</td>\n",
              "      <td>0.539</td>\n",
              "      <td>Rock</td>\n",
              "    </tr>\n",
              "    <tr>\n",
              "      <th>2</th>\n",
              "      <td>87888.0</td>\n",
              "      <td>First Person on Earth</td>\n",
              "      <td>0.2280</td>\n",
              "      <td>0.454</td>\n",
              "      <td>173448.0</td>\n",
              "      <td>0.804</td>\n",
              "      <td>0.000000</td>\n",
              "      <td>E</td>\n",
              "      <td>0.181</td>\n",
              "      <td>-5.225</td>\n",
              "      <td>Minor</td>\n",
              "      <td>0.3710</td>\n",
              "      <td>80.980</td>\n",
              "      <td>4-Apr</td>\n",
              "      <td>0.344</td>\n",
              "      <td>Alternative</td>\n",
              "    </tr>\n",
              "    <tr>\n",
              "      <th>3</th>\n",
              "      <td>77021.0</td>\n",
              "      <td>No Te Veo - Digital Single</td>\n",
              "      <td>0.0558</td>\n",
              "      <td>0.847</td>\n",
              "      <td>255987.0</td>\n",
              "      <td>0.873</td>\n",
              "      <td>0.000003</td>\n",
              "      <td>G#</td>\n",
              "      <td>0.325</td>\n",
              "      <td>-4.805</td>\n",
              "      <td>Minor</td>\n",
              "      <td>0.0804</td>\n",
              "      <td>116.007</td>\n",
              "      <td>4-Apr</td>\n",
              "      <td>0.966</td>\n",
              "      <td>Hip-Hop</td>\n",
              "    </tr>\n",
              "    <tr>\n",
              "      <th>4</th>\n",
              "      <td>20852.0</td>\n",
              "      <td>Chasing Shadows</td>\n",
              "      <td>0.2270</td>\n",
              "      <td>0.742</td>\n",
              "      <td>195333.0</td>\n",
              "      <td>0.575</td>\n",
              "      <td>0.000002</td>\n",
              "      <td>C</td>\n",
              "      <td>0.176</td>\n",
              "      <td>-5.550</td>\n",
              "      <td>Major</td>\n",
              "      <td>0.0487</td>\n",
              "      <td>76.494</td>\n",
              "      <td>4-Apr</td>\n",
              "      <td>0.583</td>\n",
              "      <td>Alternative</td>\n",
              "    </tr>\n",
              "  </tbody>\n",
              "</table>\n",
              "</div>\n",
              "    <div class=\"colab-df-buttons\">\n",
              "\n",
              "  <div class=\"colab-df-container\">\n",
              "    <button class=\"colab-df-convert\" onclick=\"convertToInteractive('df-a8848034-9094-433a-a0b2-d2894d97c7b8')\"\n",
              "            title=\"Convert this dataframe to an interactive table.\"\n",
              "            style=\"display:none;\">\n",
              "\n",
              "  <svg xmlns=\"http://www.w3.org/2000/svg\" height=\"24px\" viewBox=\"0 -960 960 960\">\n",
              "    <path d=\"M120-120v-720h720v720H120Zm60-500h600v-160H180v160Zm220 220h160v-160H400v160Zm0 220h160v-160H400v160ZM180-400h160v-160H180v160Zm440 0h160v-160H620v160ZM180-180h160v-160H180v160Zm440 0h160v-160H620v160Z\"/>\n",
              "  </svg>\n",
              "    </button>\n",
              "\n",
              "  <style>\n",
              "    .colab-df-container {\n",
              "      display:flex;\n",
              "      gap: 12px;\n",
              "    }\n",
              "\n",
              "    .colab-df-convert {\n",
              "      background-color: #E8F0FE;\n",
              "      border: none;\n",
              "      border-radius: 50%;\n",
              "      cursor: pointer;\n",
              "      display: none;\n",
              "      fill: #1967D2;\n",
              "      height: 32px;\n",
              "      padding: 0 0 0 0;\n",
              "      width: 32px;\n",
              "    }\n",
              "\n",
              "    .colab-df-convert:hover {\n",
              "      background-color: #E2EBFA;\n",
              "      box-shadow: 0px 1px 2px rgba(60, 64, 67, 0.3), 0px 1px 3px 1px rgba(60, 64, 67, 0.15);\n",
              "      fill: #174EA6;\n",
              "    }\n",
              "\n",
              "    .colab-df-buttons div {\n",
              "      margin-bottom: 4px;\n",
              "    }\n",
              "\n",
              "    [theme=dark] .colab-df-convert {\n",
              "      background-color: #3B4455;\n",
              "      fill: #D2E3FC;\n",
              "    }\n",
              "\n",
              "    [theme=dark] .colab-df-convert:hover {\n",
              "      background-color: #434B5C;\n",
              "      box-shadow: 0px 1px 3px 1px rgba(0, 0, 0, 0.15);\n",
              "      filter: drop-shadow(0px 1px 2px rgba(0, 0, 0, 0.3));\n",
              "      fill: #FFFFFF;\n",
              "    }\n",
              "  </style>\n",
              "\n",
              "    <script>\n",
              "      const buttonEl =\n",
              "        document.querySelector('#df-a8848034-9094-433a-a0b2-d2894d97c7b8 button.colab-df-convert');\n",
              "      buttonEl.style.display =\n",
              "        google.colab.kernel.accessAllowed ? 'block' : 'none';\n",
              "\n",
              "      async function convertToInteractive(key) {\n",
              "        const element = document.querySelector('#df-a8848034-9094-433a-a0b2-d2894d97c7b8');\n",
              "        const dataTable =\n",
              "          await google.colab.kernel.invokeFunction('convertToInteractive',\n",
              "                                                    [key], {});\n",
              "        if (!dataTable) return;\n",
              "\n",
              "        const docLinkHtml = 'Like what you see? Visit the ' +\n",
              "          '<a target=\"_blank\" href=https://colab.research.google.com/notebooks/data_table.ipynb>data table notebook</a>'\n",
              "          + ' to learn more about interactive tables.';\n",
              "        element.innerHTML = '';\n",
              "        dataTable['output_type'] = 'display_data';\n",
              "        await google.colab.output.renderOutput(dataTable, element);\n",
              "        const docLink = document.createElement('div');\n",
              "        docLink.innerHTML = docLinkHtml;\n",
              "        element.appendChild(docLink);\n",
              "      }\n",
              "    </script>\n",
              "  </div>\n",
              "\n",
              "\n",
              "    <div id=\"df-17492733-1678-4391-ac32-9d0de6b0a7be\">\n",
              "      <button class=\"colab-df-quickchart\" onclick=\"quickchart('df-17492733-1678-4391-ac32-9d0de6b0a7be')\"\n",
              "                title=\"Suggest charts\"\n",
              "                style=\"display:none;\">\n",
              "\n",
              "<svg xmlns=\"http://www.w3.org/2000/svg\" height=\"24px\"viewBox=\"0 0 24 24\"\n",
              "     width=\"24px\">\n",
              "    <g>\n",
              "        <path d=\"M19 3H5c-1.1 0-2 .9-2 2v14c0 1.1.9 2 2 2h14c1.1 0 2-.9 2-2V5c0-1.1-.9-2-2-2zM9 17H7v-7h2v7zm4 0h-2V7h2v10zm4 0h-2v-4h2v4z\"/>\n",
              "    </g>\n",
              "</svg>\n",
              "      </button>\n",
              "\n",
              "<style>\n",
              "  .colab-df-quickchart {\n",
              "      --bg-color: #E8F0FE;\n",
              "      --fill-color: #1967D2;\n",
              "      --hover-bg-color: #E2EBFA;\n",
              "      --hover-fill-color: #174EA6;\n",
              "      --disabled-fill-color: #AAA;\n",
              "      --disabled-bg-color: #DDD;\n",
              "  }\n",
              "\n",
              "  [theme=dark] .colab-df-quickchart {\n",
              "      --bg-color: #3B4455;\n",
              "      --fill-color: #D2E3FC;\n",
              "      --hover-bg-color: #434B5C;\n",
              "      --hover-fill-color: #FFFFFF;\n",
              "      --disabled-bg-color: #3B4455;\n",
              "      --disabled-fill-color: #666;\n",
              "  }\n",
              "\n",
              "  .colab-df-quickchart {\n",
              "    background-color: var(--bg-color);\n",
              "    border: none;\n",
              "    border-radius: 50%;\n",
              "    cursor: pointer;\n",
              "    display: none;\n",
              "    fill: var(--fill-color);\n",
              "    height: 32px;\n",
              "    padding: 0;\n",
              "    width: 32px;\n",
              "  }\n",
              "\n",
              "  .colab-df-quickchart:hover {\n",
              "    background-color: var(--hover-bg-color);\n",
              "    box-shadow: 0 1px 2px rgba(60, 64, 67, 0.3), 0 1px 3px 1px rgba(60, 64, 67, 0.15);\n",
              "    fill: var(--button-hover-fill-color);\n",
              "  }\n",
              "\n",
              "  .colab-df-quickchart-complete:disabled,\n",
              "  .colab-df-quickchart-complete:disabled:hover {\n",
              "    background-color: var(--disabled-bg-color);\n",
              "    fill: var(--disabled-fill-color);\n",
              "    box-shadow: none;\n",
              "  }\n",
              "\n",
              "  .colab-df-spinner {\n",
              "    border: 2px solid var(--fill-color);\n",
              "    border-color: transparent;\n",
              "    border-bottom-color: var(--fill-color);\n",
              "    animation:\n",
              "      spin 1s steps(1) infinite;\n",
              "  }\n",
              "\n",
              "  @keyframes spin {\n",
              "    0% {\n",
              "      border-color: transparent;\n",
              "      border-bottom-color: var(--fill-color);\n",
              "      border-left-color: var(--fill-color);\n",
              "    }\n",
              "    20% {\n",
              "      border-color: transparent;\n",
              "      border-left-color: var(--fill-color);\n",
              "      border-top-color: var(--fill-color);\n",
              "    }\n",
              "    30% {\n",
              "      border-color: transparent;\n",
              "      border-left-color: var(--fill-color);\n",
              "      border-top-color: var(--fill-color);\n",
              "      border-right-color: var(--fill-color);\n",
              "    }\n",
              "    40% {\n",
              "      border-color: transparent;\n",
              "      border-right-color: var(--fill-color);\n",
              "      border-top-color: var(--fill-color);\n",
              "    }\n",
              "    60% {\n",
              "      border-color: transparent;\n",
              "      border-right-color: var(--fill-color);\n",
              "    }\n",
              "    80% {\n",
              "      border-color: transparent;\n",
              "      border-right-color: var(--fill-color);\n",
              "      border-bottom-color: var(--fill-color);\n",
              "    }\n",
              "    90% {\n",
              "      border-color: transparent;\n",
              "      border-bottom-color: var(--fill-color);\n",
              "    }\n",
              "  }\n",
              "</style>\n",
              "\n",
              "      <script>\n",
              "        async function quickchart(key) {\n",
              "          const quickchartButtonEl =\n",
              "            document.querySelector('#' + key + ' button');\n",
              "          quickchartButtonEl.disabled = true;  // To prevent multiple clicks.\n",
              "          quickchartButtonEl.classList.add('colab-df-spinner');\n",
              "          try {\n",
              "            const charts = await google.colab.kernel.invokeFunction(\n",
              "                'suggestCharts', [key], {});\n",
              "          } catch (error) {\n",
              "            console.error('Error during call to suggestCharts:', error);\n",
              "          }\n",
              "          quickchartButtonEl.classList.remove('colab-df-spinner');\n",
              "          quickchartButtonEl.classList.add('colab-df-quickchart-complete');\n",
              "        }\n",
              "        (() => {\n",
              "          let quickchartButtonEl =\n",
              "            document.querySelector('#df-17492733-1678-4391-ac32-9d0de6b0a7be button');\n",
              "          quickchartButtonEl.style.display =\n",
              "            google.colab.kernel.accessAllowed ? 'block' : 'none';\n",
              "        })();\n",
              "      </script>\n",
              "    </div>\n",
              "    </div>\n",
              "  </div>\n"
            ],
            "application/vnd.google.colaboratory.intrinsic+json": {
              "type": "dataframe",
              "variable_name": "train",
              "summary": "{\n  \"name\": \"train\",\n  \"rows\": 20394,\n  \"fields\": [\n    {\n      \"column\": \"instance_id\",\n      \"properties\": {\n        \"dtype\": \"number\",\n        \"std\": 20695.79254487884,\n        \"min\": 20011.0,\n        \"max\": 91758.0,\n        \"num_unique_values\": 20394,\n        \"samples\": [\n          75850.0,\n          67409.0,\n          54076.0\n        ],\n        \"semantic_type\": \"\",\n        \"description\": \"\"\n      }\n    },\n    {\n      \"column\": \"track_name\",\n      \"properties\": {\n        \"dtype\": \"string\",\n        \"num_unique_values\": 18643,\n        \"samples\": [\n          \"Change On Me (feat. Leuca)\",\n          \"\\u7b11\\u9854\\u306e\\u30eb\\u30fc\\u30d7\",\n          \"Thinking Of\"\n        ],\n        \"semantic_type\": \"\",\n        \"description\": \"\"\n      }\n    },\n    {\n      \"column\": \"acousticness\",\n      \"properties\": {\n        \"dtype\": \"number\",\n        \"std\": 0.32164334724527216,\n        \"min\": 0.0,\n        \"max\": 0.996,\n        \"num_unique_values\": 3616,\n        \"samples\": [\n          0.0897,\n          0.792,\n          0.00417\n        ],\n        \"semantic_type\": \"\",\n        \"description\": \"\"\n      }\n    },\n    {\n      \"column\": \"danceability\",\n      \"properties\": {\n        \"dtype\": \"number\",\n        \"std\": 0.17189757196659972,\n        \"min\": 0.06,\n        \"max\": 0.978,\n        \"num_unique_values\": 950,\n        \"samples\": [\n          0.435,\n          0.1169999999999999,\n          0.152\n        ],\n        \"semantic_type\": \"\",\n        \"description\": \"\"\n      }\n    },\n    {\n      \"column\": \"duration_ms\",\n      \"properties\": {\n        \"dtype\": \"number\",\n        \"std\": 126728.32614223416,\n        \"min\": -1.0,\n        \"max\": 4497994.0,\n        \"num_unique_values\": 13649,\n        \"samples\": [\n          267959.0,\n          307880.0,\n          211507.0\n        ],\n        \"semantic_type\": \"\",\n        \"description\": \"\"\n      }\n    },\n    {\n      \"column\": \"energy\",\n      \"properties\": {\n        \"dtype\": \"number\",\n        \"std\": 0.25123765460349107,\n        \"min\": 0.00101,\n        \"max\": 0.999,\n        \"num_unique_values\": 1521,\n        \"samples\": [\n          0.604,\n          0.181,\n          0.00627\n        ],\n        \"semantic_type\": \"\",\n        \"description\": \"\"\n      }\n    },\n    {\n      \"column\": \"instrumentalness\",\n      \"properties\": {\n        \"dtype\": \"number\",\n        \"std\": 0.3065028391822661,\n        \"min\": 0.0,\n        \"max\": 0.996,\n        \"num_unique_values\": 4360,\n        \"samples\": [\n          4.04e-05,\n          9.29e-06,\n          9.35e-05\n        ],\n        \"semantic_type\": \"\",\n        \"description\": \"\"\n      }\n    },\n    {\n      \"column\": \"key\",\n      \"properties\": {\n        \"dtype\": \"category\",\n        \"num_unique_values\": 12,\n        \"samples\": [\n          \"C#\",\n          \"G\",\n          \"D\"\n        ],\n        \"semantic_type\": \"\",\n        \"description\": \"\"\n      }\n    },\n    {\n      \"column\": \"liveness\",\n      \"properties\": {\n        \"dtype\": \"number\",\n        \"std\": 0.16674243092650232,\n        \"min\": 0.0136,\n        \"max\": 1.0,\n        \"num_unique_values\": 1521,\n        \"samples\": [\n          0.0597,\n          0.664,\n          0.526\n        ],\n        \"semantic_type\": \"\",\n        \"description\": \"\"\n      }\n    },\n    {\n      \"column\": \"loudness\",\n      \"properties\": {\n        \"dtype\": \"number\",\n        \"std\": 5.4999166342113295,\n        \"min\": -44.406000000000006,\n        \"max\": 3.744,\n        \"num_unique_values\": 10844,\n        \"samples\": [\n          -3.782,\n          -7.723,\n          -16.977\n        ],\n        \"semantic_type\": \"\",\n        \"description\": \"\"\n      }\n    },\n    {\n      \"column\": \"mode\",\n      \"properties\": {\n        \"dtype\": \"category\",\n        \"num_unique_values\": 2,\n        \"samples\": [\n          \"Minor\",\n          \"Major\"\n        ],\n        \"semantic_type\": \"\",\n        \"description\": \"\"\n      }\n    },\n    {\n      \"column\": \"speechiness\",\n      \"properties\": {\n        \"dtype\": \"number\",\n        \"std\": 0.09773515688792143,\n        \"min\": 0.0223,\n        \"max\": 0.942,\n        \"num_unique_values\": 1243,\n        \"samples\": [\n          0.0256,\n          0.0625\n        ],\n        \"semantic_type\": \"\",\n        \"description\": \"\"\n      }\n    },\n    {\n      \"column\": \"tempo\",\n      \"properties\": {\n        \"dtype\": \"number\",\n        \"std\": 30.42758970460875,\n        \"min\": 34.765,\n        \"max\": 220.041,\n        \"num_unique_values\": 15762,\n        \"samples\": [\n          95.021,\n          153.83100000000002\n        ],\n        \"semantic_type\": \"\",\n        \"description\": \"\"\n      }\n    },\n    {\n      \"column\": \"obtained_date\",\n      \"properties\": {\n        \"dtype\": \"category\",\n        \"num_unique_values\": 4,\n        \"samples\": [\n          \"3-Apr\",\n          \"1-Apr\"\n        ],\n        \"semantic_type\": \"\",\n        \"description\": \"\"\n      }\n    },\n    {\n      \"column\": \"valence\",\n      \"properties\": {\n        \"dtype\": \"number\",\n        \"std\": 0.24338678887671936,\n        \"min\": 0.0,\n        \"max\": 0.992,\n        \"num_unique_values\": 1454,\n        \"samples\": [\n          0.7659999999999999,\n          0.0644\n        ],\n        \"semantic_type\": \"\",\n        \"description\": \"\"\n      }\n    },\n    {\n      \"column\": \"music_genre\",\n      \"properties\": {\n        \"dtype\": \"category\",\n        \"num_unique_values\": 10,\n        \"samples\": [\n          \"Rap\",\n          \"Rock\"\n        ],\n        \"semantic_type\": \"\",\n        \"description\": \"\"\n      }\n    }\n  ]\n}"
            }
          },
          "metadata": {},
          "execution_count": 31
        }
      ]
    },
    {
      "cell_type": "code",
      "source": [
        "train['obtained_date'].unique()"
      ],
      "metadata": {
        "id": "BX9DgVWRNUFc",
        "outputId": "7b5e1bc9-a33a-4554-8aaa-e160db53d295",
        "colab": {
          "base_uri": "https://localhost:8080/"
        }
      },
      "execution_count": 16,
      "outputs": [
        {
          "output_type": "execute_result",
          "data": {
            "text/plain": [
              "array(['4-Apr', '3-Apr', '5-Apr', '1-Apr'], dtype=object)"
            ]
          },
          "metadata": {},
          "execution_count": 16
        }
      ]
    },
    {
      "cell_type": "code",
      "source": [
        "print(\"Train unique\")\n",
        "[print(f\"{i}: {train[i].unique()}\") for i in train.columns if train[i].dtype == 'object']\n",
        "print(\"\\nTest unique\")\n",
        "[print(f\"{i}: {test[i].unique()}\") for i in test.columns if test[i].dtype == 'object']"
      ],
      "metadata": {
        "id": "GtX0CtEgdQH4",
        "outputId": "20a29c24-4f52-4b4b-aab5-8f5d81382e1e",
        "colab": {
          "base_uri": "https://localhost:8080/"
        }
      },
      "execution_count": 46,
      "outputs": [
        {
          "output_type": "stream",
          "name": "stdout",
          "text": [
            "Train unique\n",
            "track_name: ['Highwayman' 'Toes Across The Floor' 'First Person on Earth' ...\n",
            " 'Original Prankster' '4Peat' 'Trouble (feat. MC Spyder)']\n",
            "key: ['D' 'A' 'E' 'G#' 'C' 'D#' 'A#' 'F' 'F#' nan 'G' 'C#' 'B']\n",
            "mode: ['Major' 'Minor' nan]\n",
            "obtained_date: ['4-Apr' '3-Apr' '5-Apr' '1-Apr']\n",
            "music_genre: ['Country' 'Rock' 'Alternative' 'Hip-Hop' 'Blues' 'Jazz' 'Electronic'\n",
            " 'Anime' 'Rap' 'Classical']\n",
            "\n",
            "Test unique\n",
            "track_name: ['Low Class Conspiracy' 'The Hunter' 'Hate Me Now' ... 'Bipolar'\n",
            " 'Dead - NGHTMRE Remix'\n",
            " 'A Night In Tunisia - Remastered 1998 / Rudy Van Gelder Edition']\n",
            "key: ['A#' 'G#' 'A' 'B' 'D' 'F#' 'F' 'G' 'C' nan 'D#' 'C#' 'E']\n",
            "mode: ['Minor' 'Major' nan]\n",
            "obtained_date: ['4-Apr' '3-Apr' '5-Apr' '1-Apr']\n"
          ]
        },
        {
          "output_type": "execute_result",
          "data": {
            "text/plain": [
              "[None, None, None, None]"
            ]
          },
          "metadata": {},
          "execution_count": 46
        }
      ]
    },
    {
      "cell_type": "code",
      "source": [
        "train.info()"
      ],
      "metadata": {
        "id": "1zXI_zmMM5X0",
        "outputId": "8f3b075e-e4b0-4630-c3f8-87f091742e11",
        "colab": {
          "base_uri": "https://localhost:8080/"
        }
      },
      "execution_count": 11,
      "outputs": [
        {
          "output_type": "stream",
          "name": "stdout",
          "text": [
            "<class 'pandas.core.frame.DataFrame'>\n",
            "RangeIndex: 20394 entries, 0 to 20393\n",
            "Data columns (total 16 columns):\n",
            " #   Column            Non-Null Count  Dtype  \n",
            "---  ------            --------------  -----  \n",
            " 0   instance_id       20394 non-null  float64\n",
            " 1   track_name        20394 non-null  object \n",
            " 2   acousticness      20394 non-null  float64\n",
            " 3   danceability      20394 non-null  float64\n",
            " 4   duration_ms       20394 non-null  float64\n",
            " 5   energy            20394 non-null  float64\n",
            " 6   instrumentalness  20394 non-null  float64\n",
            " 7   key               19659 non-null  object \n",
            " 8   liveness          20394 non-null  float64\n",
            " 9   loudness          20394 non-null  float64\n",
            " 10  mode              19888 non-null  object \n",
            " 11  speechiness       20394 non-null  float64\n",
            " 12  tempo             19952 non-null  float64\n",
            " 13  obtained_date     20394 non-null  object \n",
            " 14  valence           20394 non-null  float64\n",
            " 15  music_genre       20394 non-null  object \n",
            "dtypes: float64(11), object(5)\n",
            "memory usage: 2.5+ MB\n"
          ]
        }
      ]
    },
    {
      "cell_type": "code",
      "source": [
        "print(\"Train null\")\n",
        "[print(f\"{i}: {train[i].isnull().sum()}\") for i in train.columns if train[i].isnull().sum() > 0]\n",
        "print(\"Train data shape:\", train.shape)\n",
        "print(\"\\nTest null\")\n",
        "[print(f\"{i}: {test[i].isnull().sum()}\") for i in test.columns if test[i].isnull().sum() > 0]\n",
        "print(\"Test data shape: \", test.shape)"
      ],
      "metadata": {
        "id": "gfTOf1xnNuOE",
        "outputId": "337b6682-1f9f-4658-92a2-d62e2280af58",
        "colab": {
          "base_uri": "https://localhost:8080/"
        }
      },
      "execution_count": null,
      "outputs": [
        {
          "output_type": "stream",
          "name": "stdout",
          "text": [
            "Train null\n",
            "key: 735\n",
            "mode: 506\n",
            "tempo: 442\n",
            "Train data shape: (20394, 16)\n",
            "\n",
            "Test null\n",
            "key: 158\n",
            "mode: 149\n",
            "tempo: 121\n",
            "Test data shape:  (5099, 15)\n"
          ]
        }
      ]
    },
    {
      "cell_type": "code",
      "source": [
        "statistics_train = train.select_dtypes(include=['float64', 'int64']).describe()\n",
        "statistics_test = test.select_dtypes(include=['float64', 'int64']).describe()\n",
        "statistics_obj_train = train.select_dtypes(include=['object']).describe()\n",
        "statistics_obj_test = test.select_dtypes(include=['object']).describe()\n",
        "\n",
        "print(f\"Train:\\n{statistics_train}\")\n",
        "print(f\"\\nTest:\\n{statistics_test}\")\n",
        "print(f\"\\nTrain object:\\n{statistics_obj_train}\")\n",
        "print(f\"\\nTest object:\\n{statistics_obj_test}\")"
      ],
      "metadata": {
        "colab": {
          "base_uri": "https://localhost:8080/"
        },
        "id": "dItmnyF1Gv0T",
        "outputId": "457c7c42-c25c-4972-ec8b-c9aced54e4b5"
      },
      "execution_count": null,
      "outputs": [
        {
          "output_type": "stream",
          "name": "stdout",
          "text": [
            "Train:\n",
            "        instance_id  acousticness  danceability   duration_ms        energy  \\\n",
            "count  20394.000000  20394.000000  20394.000000  2.039400e+04  20394.000000   \n",
            "mean   55973.846916      0.274783      0.561983  2.203754e+05      0.625276   \n",
            "std    20695.792545      0.321643      0.171898  1.267283e+05      0.251238   \n",
            "min    20011.000000      0.000000      0.060000 -1.000000e+00      0.001010   \n",
            "25%    38157.250000      0.015200      0.451000  1.775170e+05      0.470000   \n",
            "50%    56030.000000      0.120000      0.570000  2.195330e+05      0.666000   \n",
            "75%    73912.750000      0.470000      0.683000  2.660000e+05      0.830000   \n",
            "max    91758.000000      0.996000      0.978000  4.497994e+06      0.999000   \n",
            "\n",
            "       instrumentalness      liveness      loudness   speechiness  \\\n",
            "count      20394.000000  20394.000000  20394.000000  20394.000000   \n",
            "mean           0.159989      0.198540     -8.552998      0.091352   \n",
            "std            0.306503      0.166742      5.499917      0.097735   \n",
            "min            0.000000      0.013600    -44.406000      0.022300   \n",
            "25%            0.000000      0.097300    -10.255750      0.035600   \n",
            "50%            0.000144      0.130000     -7.052000      0.049050   \n",
            "75%            0.084475      0.253000     -5.054000      0.095575   \n",
            "max            0.996000      1.000000      3.744000      0.942000   \n",
            "\n",
            "              tempo       valence  \n",
            "count  19952.000000  20394.000000  \n",
            "mean     120.942522      0.464588  \n",
            "std       30.427590      0.243387  \n",
            "min       34.765000      0.000000  \n",
            "25%       95.921750      0.272000  \n",
            "50%      120.012500      0.457000  \n",
            "75%      141.966250      0.653000  \n",
            "max      220.041000      0.992000  \n",
            "\n",
            "Test:\n",
            "        instance_id  acousticness  danceability   duration_ms       energy  \\\n",
            "count   5099.000000   5099.000000   5099.000000  5.099000e+03  5099.000000   \n",
            "mean   55643.871347      0.276324      0.561888  2.173974e+05     0.622030   \n",
            "std    20762.384803      0.322657      0.170502  1.156374e+05     0.251829   \n",
            "min    20012.000000      0.000002      0.059600 -1.000000e+00     0.001540   \n",
            "25%    37571.000000      0.016600      0.451000  1.737335e+05     0.465000   \n",
            "50%    55246.000000      0.120000      0.568000  2.175000e+05     0.660000   \n",
            "75%    73702.000000      0.460000      0.681000  2.642470e+05     0.826000   \n",
            "max    91709.000000      0.996000      0.977000  1.360027e+06     0.999000   \n",
            "\n",
            "       instrumentalness     liveness     loudness  speechiness        tempo  \\\n",
            "count       5099.000000  5099.000000  5099.000000  5099.000000  4978.000000   \n",
            "mean           0.165198     0.197924    -8.630186     0.092718   121.246463   \n",
            "std            0.311940     0.166241     5.619766     0.100130    29.875950   \n",
            "min            0.000000     0.020400   -46.122000     0.022600    37.114000   \n",
            "25%            0.000000     0.096950   -10.231000     0.035700    96.070250   \n",
            "50%            0.000157     0.129000    -7.135000     0.048700   120.053500   \n",
            "75%            0.092750     0.248000    -5.127000     0.096550   141.934250   \n",
            "max            0.994000     0.990000     1.949000     0.918000   216.029000   \n",
            "\n",
            "           valence  \n",
            "count  5099.000000  \n",
            "mean      0.465593  \n",
            "std       0.244217  \n",
            "min       0.020500  \n",
            "25%       0.272000  \n",
            "50%       0.458000  \n",
            "75%       0.650000  \n",
            "max       0.982000  \n",
            "\n",
            "Train object:\n",
            "       track_name    key   mode obtained_date music_genre\n",
            "count       20394  19659  19888         20394       20394\n",
            "unique      18643     12      2             4          10\n",
            "top          Home      G  Major         4-Apr       Blues\n",
            "freq           11   2304  12828         18435        2858\n",
            "\n",
            "Test object:\n",
            "       track_name   key   mode obtained_date\n",
            "count        5099  4941   4950          5099\n",
            "unique       4981    12      2             4\n",
            "top         Sorry     D  Major         4-Apr\n",
            "freq            3   557   3177          4597\n"
          ]
        }
      ]
    },
    {
      "cell_type": "markdown",
      "source": [
        "## Разведочный анализ"
      ],
      "metadata": {
        "id": "C1n43JFuj8A4"
      }
    },
    {
      "cell_type": "code",
      "source": [],
      "metadata": {
        "id": "XZkWuz5PkJKz"
      },
      "execution_count": null,
      "outputs": []
    },
    {
      "cell_type": "code",
      "source": [],
      "metadata": {
        "id": "wH49XeKmkJAk"
      },
      "execution_count": null,
      "outputs": []
    },
    {
      "cell_type": "markdown",
      "source": [
        "## Работа с признаками"
      ],
      "metadata": {
        "id": "8jjLU6LfkEXo"
      }
    },
    {
      "cell_type": "code",
      "source": [],
      "metadata": {
        "id": "04rnC4ZNkH-W"
      },
      "execution_count": null,
      "outputs": []
    },
    {
      "cell_type": "code",
      "source": [],
      "metadata": {
        "id": "-4pQ7uzFkH0p"
      },
      "execution_count": null,
      "outputs": []
    },
    {
      "cell_type": "markdown",
      "metadata": {
        "id": "Z8q5tYgLRXxB"
      },
      "source": [
        "## Выбор и обучение моделей"
      ]
    },
    {
      "cell_type": "code",
      "source": [],
      "metadata": {
        "id": "j1RiZZM1kJsA"
      },
      "execution_count": null,
      "outputs": []
    },
    {
      "cell_type": "code",
      "source": [],
      "metadata": {
        "id": "lpM7aKb8jq-M"
      },
      "execution_count": null,
      "outputs": []
    },
    {
      "cell_type": "markdown",
      "metadata": {
        "id": "DKCtMvNlR5sf"
      },
      "source": [
        "## Оценка качества"
      ]
    },
    {
      "cell_type": "code",
      "source": [],
      "metadata": {
        "id": "mNu1Q_l_kKEf"
      },
      "execution_count": null,
      "outputs": []
    },
    {
      "cell_type": "code",
      "source": [],
      "metadata": {
        "id": "hauX4570jumC"
      },
      "execution_count": null,
      "outputs": []
    },
    {
      "cell_type": "markdown",
      "source": [
        "## Анализ важности признаков модели"
      ],
      "metadata": {
        "id": "xym1_x6Alo8o"
      }
    },
    {
      "cell_type": "code",
      "source": [],
      "metadata": {
        "id": "QVoP-8_IlsS0"
      },
      "execution_count": null,
      "outputs": []
    },
    {
      "cell_type": "code",
      "source": [],
      "metadata": {
        "id": "JkoTDfxfmJuo"
      },
      "execution_count": null,
      "outputs": []
    }
  ],
  "metadata": {
    "colab": {
      "provenance": [],
      "include_colab_link": true
    },
    "kernelspec": {
      "display_name": "Python 3 (ipykernel)",
      "language": "python",
      "name": "python3"
    },
    "language_info": {
      "codemirror_mode": {
        "name": "ipython",
        "version": 3
      },
      "file_extension": ".py",
      "mimetype": "text/x-python",
      "name": "python",
      "nbconvert_exporter": "python",
      "pygments_lexer": "ipython3",
      "version": "3.8.12"
    },
    "toc": {
      "base_numbering": 1,
      "nav_menu": {},
      "number_sections": true,
      "sideBar": true,
      "skip_h1_title": true,
      "title_cell": "Table of Contents",
      "title_sidebar": "Contents",
      "toc_cell": false,
      "toc_position": {},
      "toc_section_display": true,
      "toc_window_display": false
    }
  },
  "nbformat": 4,
  "nbformat_minor": 0
}