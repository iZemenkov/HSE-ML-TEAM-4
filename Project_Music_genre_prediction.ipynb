{
  "cells": [
    {
      "cell_type": "markdown",
      "metadata": {
        "id": "view-in-github",
        "colab_type": "text"
      },
      "source": [
        "<a href=\"https://colab.research.google.com/github/kirillkobychev/HSE-ML-TEAM-4/blob/kirill-dev/Project_Music_genre_prediction.ipynb\" target=\"_parent\"><img src=\"https://colab.research.google.com/assets/colab-badge.svg\" alt=\"Open In Colab\"/></a>"
      ]
    },
    {
      "cell_type": "markdown",
      "metadata": {
        "id": "UzskdJLJG6-B"
      },
      "source": [
        "# Music genre prediction"
      ]
    },
    {
      "cell_type": "markdown",
      "metadata": {
        "id": "VEmvv_QjG_VK"
      },
      "source": [
        "**Описание задачи**\n",
        "\n",
        "Вы сотрудник Отдела Data Science популярного музыкального стримингового сервиса. Сервис расширяет работу с новыми артистами и музыкантами, в связи с чем возникла задача -- правильно классифицировать новые музыкальные треки, чтобы улучшить работу рекомендательной системы. Ваши коллеги из отдела работы со звуком подготовили датасет, в котором собраны некоторые характеристики музыкальных произведений и их жанры. Ваша задача - разработать модель, позволяющую классифицировать музыкальные произведения по жанрам."
      ]
    },
    {
      "cell_type": "markdown",
      "source": [
        "В ходе работы пройдите все основные этапы полноценного исследования:\n",
        "\n",
        "*  загрузка и ознакомление с данными\n",
        "*  предварительная обработка\n",
        "*  полноценный разведочный анализ\n",
        "*  разработка новых синтетических признаков\n",
        "*  проверка на мультиколлинеарность\n",
        "*  отбор финального набора обучающих признаков\n",
        "*  выбор и обучение моделей\n",
        "*  итоговая оценка качества предсказания лучшей модели\n",
        "*  анализ важности ее признаков\n",
        "\n",
        "**ВАЖНО**  \n",
        "Необходимо реализовать решение с использованием технологии `pipeline` (из библиотеки `sklearn`)"
      ],
      "metadata": {
        "id": "n2eyK2PYgTUx"
      }
    },
    {
      "cell_type": "markdown",
      "source": [
        "**ОЖИДАЕМЫЙ РЕЗУЛЬТАТ**\n",
        "\n",
        "* Оформленный репозиторий на GitHub (ноутбук с исследованием + код приложения)\n",
        "* Развернутое web-приложение (с использованием библиотеки Streamlit)"
      ],
      "metadata": {
        "id": "cKiE8GeWiuk6"
      }
    },
    {
      "cell_type": "markdown",
      "source": [
        "## Участники проекта, репозиторий, приложение"
      ],
      "metadata": {
        "id": "vjyDN19upagN"
      }
    },
    {
      "cell_type": "markdown",
      "source": [
        "Кобычев Кирилл, @hikoby"
      ],
      "metadata": {
        "id": "Fc7hKssHphI5"
      }
    },
    {
      "cell_type": "markdown",
      "source": [
        "Иванов Егор, @Jaibesiondaide"
      ],
      "metadata": {
        "id": "JXbgFQ4XpsRY"
      }
    },
    {
      "cell_type": "markdown",
      "source": [
        "Игорь Земенков, @iZemM"
      ],
      "metadata": {
        "id": "UjfYpv2g7vWq"
      }
    },
    {
      "cell_type": "markdown",
      "source": [
        "https://github.com/kirillkobychev/HSE-ML-TEAM-4"
      ],
      "metadata": {
        "id": "9oPtdaKx71Oy"
      }
    },
    {
      "cell_type": "markdown",
      "metadata": {
        "id": "upi7CiS5HGqL"
      },
      "source": [
        "## Импорт библиотек, установка констант"
      ]
    },
    {
      "cell_type": "code",
      "execution_count": 43,
      "metadata": {
        "id": "SsOojBMIIWJ5"
      },
      "outputs": [],
      "source": [
        "%%capture\n",
        "!pip install catboost -q"
      ]
    },
    {
      "cell_type": "code",
      "execution_count": 44,
      "metadata": {
        "id": "m6qnUHR9G5Ld"
      },
      "outputs": [],
      "source": [
        "import pandas as pd\n",
        "import numpy as np\n",
        "\n",
        "from sklearn.model_selection import train_test_split\n",
        "from sklearn.metrics import f1_score\n",
        "from catboost import CatBoostClassifier"
      ]
    },
    {
      "cell_type": "code",
      "execution_count": 45,
      "metadata": {
        "id": "lDS-n392MZiL"
      },
      "outputs": [],
      "source": [
        "TRAIN = \"https://www.dropbox.com/scl/fi/5zy935lqpaqr9lat76ung/music_genre_train.csv?rlkey=ccovu9ml8pfi9whk1ba26zdda&dl=1\"\n",
        "TEST = \"https://www.dropbox.com/scl/fi/o6mvsowpp9r3k2lejuegt/music_genre_test.csv?rlkey=ac14ydue0rzlh880jwj3ebum4&dl=1\""
      ]
    },
    {
      "cell_type": "code",
      "execution_count": 46,
      "metadata": {
        "id": "CHWpPqWyRkBp"
      },
      "outputs": [],
      "source": [
        "RANDOM_STATE = 42\n",
        "TEST_SIZE = 0.25"
      ]
    },
    {
      "cell_type": "markdown",
      "metadata": {
        "id": "2KtnoyfHNIVT"
      },
      "source": [
        "## Загрузка и обзор данных"
      ]
    },
    {
      "cell_type": "code",
      "execution_count": 47,
      "metadata": {
        "id": "S7wsfpGRNKG3"
      },
      "outputs": [],
      "source": [
        "train = pd.read_csv(TRAIN)\n",
        "test = pd.read_csv(TEST)"
      ]
    },
    {
      "cell_type": "code",
      "execution_count": 48,
      "metadata": {
        "colab": {
          "base_uri": "https://localhost:8080/",
          "height": 313
        },
        "id": "loLY3GVFN5jI",
        "outputId": "cbe15afc-9dfd-421b-aecf-667eb186c8fb"
      },
      "outputs": [
        {
          "output_type": "execute_result",
          "data": {
            "text/plain": [
              "       instance_id                    track_name  acousticness  danceability  \\\n",
              "6022       38177.0  Haunting Thoughts - Sallapam      0.679000         0.528   \n",
              "13931      59368.0                      Backbone      0.101000         0.678   \n",
              "15612      28665.0         Jesus Built My Hotrod      0.000004         0.541   \n",
              "5045       34631.0                 How It's Done      0.226000         0.511   \n",
              "4865       42145.0                  Lazy fo Acre      0.223000         0.559   \n",
              "\n",
              "       duration_ms  energy  instrumentalness key  liveness  loudness   mode  \\\n",
              "6022      406653.0   0.697            0.8410   G     0.044    -8.064  Major   \n",
              "13931     183270.0   0.842            0.0255   B     0.205    -9.381  Major   \n",
              "15612     292587.0   0.910            0.5970   C     0.790    -5.114  Major   \n",
              "5045      205620.0   0.661            0.0000   E     0.376    -6.120  Minor   \n",
              "4865      281773.0   0.534            0.0912   A     0.355   -11.622  Major   \n",
              "\n",
              "       speechiness    tempo obtained_date  valence  music_genre  \n",
              "6022        0.5960  126.034         4-Apr    0.775    Classical  \n",
              "13931       0.0296  136.990         4-Apr    0.707        Blues  \n",
              "15612       0.0529  125.076         3-Apr    0.397  Alternative  \n",
              "5045        0.0711  143.438         4-Apr    0.517      Country  \n",
              "4865        0.0540   81.487         4-Apr    0.525        Blues  "
            ],
            "text/html": [
              "\n",
              "  <div id=\"df-2e21d66a-7188-4e41-817e-0890fcd44f42\" class=\"colab-df-container\">\n",
              "    <div>\n",
              "<style scoped>\n",
              "    .dataframe tbody tr th:only-of-type {\n",
              "        vertical-align: middle;\n",
              "    }\n",
              "\n",
              "    .dataframe tbody tr th {\n",
              "        vertical-align: top;\n",
              "    }\n",
              "\n",
              "    .dataframe thead th {\n",
              "        text-align: right;\n",
              "    }\n",
              "</style>\n",
              "<table border=\"1\" class=\"dataframe\">\n",
              "  <thead>\n",
              "    <tr style=\"text-align: right;\">\n",
              "      <th></th>\n",
              "      <th>instance_id</th>\n",
              "      <th>track_name</th>\n",
              "      <th>acousticness</th>\n",
              "      <th>danceability</th>\n",
              "      <th>duration_ms</th>\n",
              "      <th>energy</th>\n",
              "      <th>instrumentalness</th>\n",
              "      <th>key</th>\n",
              "      <th>liveness</th>\n",
              "      <th>loudness</th>\n",
              "      <th>mode</th>\n",
              "      <th>speechiness</th>\n",
              "      <th>tempo</th>\n",
              "      <th>obtained_date</th>\n",
              "      <th>valence</th>\n",
              "      <th>music_genre</th>\n",
              "    </tr>\n",
              "  </thead>\n",
              "  <tbody>\n",
              "    <tr>\n",
              "      <th>6022</th>\n",
              "      <td>38177.0</td>\n",
              "      <td>Haunting Thoughts - Sallapam</td>\n",
              "      <td>0.679000</td>\n",
              "      <td>0.528</td>\n",
              "      <td>406653.0</td>\n",
              "      <td>0.697</td>\n",
              "      <td>0.8410</td>\n",
              "      <td>G</td>\n",
              "      <td>0.044</td>\n",
              "      <td>-8.064</td>\n",
              "      <td>Major</td>\n",
              "      <td>0.5960</td>\n",
              "      <td>126.034</td>\n",
              "      <td>4-Apr</td>\n",
              "      <td>0.775</td>\n",
              "      <td>Classical</td>\n",
              "    </tr>\n",
              "    <tr>\n",
              "      <th>13931</th>\n",
              "      <td>59368.0</td>\n",
              "      <td>Backbone</td>\n",
              "      <td>0.101000</td>\n",
              "      <td>0.678</td>\n",
              "      <td>183270.0</td>\n",
              "      <td>0.842</td>\n",
              "      <td>0.0255</td>\n",
              "      <td>B</td>\n",
              "      <td>0.205</td>\n",
              "      <td>-9.381</td>\n",
              "      <td>Major</td>\n",
              "      <td>0.0296</td>\n",
              "      <td>136.990</td>\n",
              "      <td>4-Apr</td>\n",
              "      <td>0.707</td>\n",
              "      <td>Blues</td>\n",
              "    </tr>\n",
              "    <tr>\n",
              "      <th>15612</th>\n",
              "      <td>28665.0</td>\n",
              "      <td>Jesus Built My Hotrod</td>\n",
              "      <td>0.000004</td>\n",
              "      <td>0.541</td>\n",
              "      <td>292587.0</td>\n",
              "      <td>0.910</td>\n",
              "      <td>0.5970</td>\n",
              "      <td>C</td>\n",
              "      <td>0.790</td>\n",
              "      <td>-5.114</td>\n",
              "      <td>Major</td>\n",
              "      <td>0.0529</td>\n",
              "      <td>125.076</td>\n",
              "      <td>3-Apr</td>\n",
              "      <td>0.397</td>\n",
              "      <td>Alternative</td>\n",
              "    </tr>\n",
              "    <tr>\n",
              "      <th>5045</th>\n",
              "      <td>34631.0</td>\n",
              "      <td>How It's Done</td>\n",
              "      <td>0.226000</td>\n",
              "      <td>0.511</td>\n",
              "      <td>205620.0</td>\n",
              "      <td>0.661</td>\n",
              "      <td>0.0000</td>\n",
              "      <td>E</td>\n",
              "      <td>0.376</td>\n",
              "      <td>-6.120</td>\n",
              "      <td>Minor</td>\n",
              "      <td>0.0711</td>\n",
              "      <td>143.438</td>\n",
              "      <td>4-Apr</td>\n",
              "      <td>0.517</td>\n",
              "      <td>Country</td>\n",
              "    </tr>\n",
              "    <tr>\n",
              "      <th>4865</th>\n",
              "      <td>42145.0</td>\n",
              "      <td>Lazy fo Acre</td>\n",
              "      <td>0.223000</td>\n",
              "      <td>0.559</td>\n",
              "      <td>281773.0</td>\n",
              "      <td>0.534</td>\n",
              "      <td>0.0912</td>\n",
              "      <td>A</td>\n",
              "      <td>0.355</td>\n",
              "      <td>-11.622</td>\n",
              "      <td>Major</td>\n",
              "      <td>0.0540</td>\n",
              "      <td>81.487</td>\n",
              "      <td>4-Apr</td>\n",
              "      <td>0.525</td>\n",
              "      <td>Blues</td>\n",
              "    </tr>\n",
              "  </tbody>\n",
              "</table>\n",
              "</div>\n",
              "    <div class=\"colab-df-buttons\">\n",
              "\n",
              "  <div class=\"colab-df-container\">\n",
              "    <button class=\"colab-df-convert\" onclick=\"convertToInteractive('df-2e21d66a-7188-4e41-817e-0890fcd44f42')\"\n",
              "            title=\"Convert this dataframe to an interactive table.\"\n",
              "            style=\"display:none;\">\n",
              "\n",
              "  <svg xmlns=\"http://www.w3.org/2000/svg\" height=\"24px\" viewBox=\"0 -960 960 960\">\n",
              "    <path d=\"M120-120v-720h720v720H120Zm60-500h600v-160H180v160Zm220 220h160v-160H400v160Zm0 220h160v-160H400v160ZM180-400h160v-160H180v160Zm440 0h160v-160H620v160ZM180-180h160v-160H180v160Zm440 0h160v-160H620v160Z\"/>\n",
              "  </svg>\n",
              "    </button>\n",
              "\n",
              "  <style>\n",
              "    .colab-df-container {\n",
              "      display:flex;\n",
              "      gap: 12px;\n",
              "    }\n",
              "\n",
              "    .colab-df-convert {\n",
              "      background-color: #E8F0FE;\n",
              "      border: none;\n",
              "      border-radius: 50%;\n",
              "      cursor: pointer;\n",
              "      display: none;\n",
              "      fill: #1967D2;\n",
              "      height: 32px;\n",
              "      padding: 0 0 0 0;\n",
              "      width: 32px;\n",
              "    }\n",
              "\n",
              "    .colab-df-convert:hover {\n",
              "      background-color: #E2EBFA;\n",
              "      box-shadow: 0px 1px 2px rgba(60, 64, 67, 0.3), 0px 1px 3px 1px rgba(60, 64, 67, 0.15);\n",
              "      fill: #174EA6;\n",
              "    }\n",
              "\n",
              "    .colab-df-buttons div {\n",
              "      margin-bottom: 4px;\n",
              "    }\n",
              "\n",
              "    [theme=dark] .colab-df-convert {\n",
              "      background-color: #3B4455;\n",
              "      fill: #D2E3FC;\n",
              "    }\n",
              "\n",
              "    [theme=dark] .colab-df-convert:hover {\n",
              "      background-color: #434B5C;\n",
              "      box-shadow: 0px 1px 3px 1px rgba(0, 0, 0, 0.15);\n",
              "      filter: drop-shadow(0px 1px 2px rgba(0, 0, 0, 0.3));\n",
              "      fill: #FFFFFF;\n",
              "    }\n",
              "  </style>\n",
              "\n",
              "    <script>\n",
              "      const buttonEl =\n",
              "        document.querySelector('#df-2e21d66a-7188-4e41-817e-0890fcd44f42 button.colab-df-convert');\n",
              "      buttonEl.style.display =\n",
              "        google.colab.kernel.accessAllowed ? 'block' : 'none';\n",
              "\n",
              "      async function convertToInteractive(key) {\n",
              "        const element = document.querySelector('#df-2e21d66a-7188-4e41-817e-0890fcd44f42');\n",
              "        const dataTable =\n",
              "          await google.colab.kernel.invokeFunction('convertToInteractive',\n",
              "                                                    [key], {});\n",
              "        if (!dataTable) return;\n",
              "\n",
              "        const docLinkHtml = 'Like what you see? Visit the ' +\n",
              "          '<a target=\"_blank\" href=https://colab.research.google.com/notebooks/data_table.ipynb>data table notebook</a>'\n",
              "          + ' to learn more about interactive tables.';\n",
              "        element.innerHTML = '';\n",
              "        dataTable['output_type'] = 'display_data';\n",
              "        await google.colab.output.renderOutput(dataTable, element);\n",
              "        const docLink = document.createElement('div');\n",
              "        docLink.innerHTML = docLinkHtml;\n",
              "        element.appendChild(docLink);\n",
              "      }\n",
              "    </script>\n",
              "  </div>\n",
              "\n",
              "\n",
              "    <div id=\"df-7253e564-068e-47af-b810-49b03194ced5\">\n",
              "      <button class=\"colab-df-quickchart\" onclick=\"quickchart('df-7253e564-068e-47af-b810-49b03194ced5')\"\n",
              "                title=\"Suggest charts\"\n",
              "                style=\"display:none;\">\n",
              "\n",
              "<svg xmlns=\"http://www.w3.org/2000/svg\" height=\"24px\"viewBox=\"0 0 24 24\"\n",
              "     width=\"24px\">\n",
              "    <g>\n",
              "        <path d=\"M19 3H5c-1.1 0-2 .9-2 2v14c0 1.1.9 2 2 2h14c1.1 0 2-.9 2-2V5c0-1.1-.9-2-2-2zM9 17H7v-7h2v7zm4 0h-2V7h2v10zm4 0h-2v-4h2v4z\"/>\n",
              "    </g>\n",
              "</svg>\n",
              "      </button>\n",
              "\n",
              "<style>\n",
              "  .colab-df-quickchart {\n",
              "      --bg-color: #E8F0FE;\n",
              "      --fill-color: #1967D2;\n",
              "      --hover-bg-color: #E2EBFA;\n",
              "      --hover-fill-color: #174EA6;\n",
              "      --disabled-fill-color: #AAA;\n",
              "      --disabled-bg-color: #DDD;\n",
              "  }\n",
              "\n",
              "  [theme=dark] .colab-df-quickchart {\n",
              "      --bg-color: #3B4455;\n",
              "      --fill-color: #D2E3FC;\n",
              "      --hover-bg-color: #434B5C;\n",
              "      --hover-fill-color: #FFFFFF;\n",
              "      --disabled-bg-color: #3B4455;\n",
              "      --disabled-fill-color: #666;\n",
              "  }\n",
              "\n",
              "  .colab-df-quickchart {\n",
              "    background-color: var(--bg-color);\n",
              "    border: none;\n",
              "    border-radius: 50%;\n",
              "    cursor: pointer;\n",
              "    display: none;\n",
              "    fill: var(--fill-color);\n",
              "    height: 32px;\n",
              "    padding: 0;\n",
              "    width: 32px;\n",
              "  }\n",
              "\n",
              "  .colab-df-quickchart:hover {\n",
              "    background-color: var(--hover-bg-color);\n",
              "    box-shadow: 0 1px 2px rgba(60, 64, 67, 0.3), 0 1px 3px 1px rgba(60, 64, 67, 0.15);\n",
              "    fill: var(--button-hover-fill-color);\n",
              "  }\n",
              "\n",
              "  .colab-df-quickchart-complete:disabled,\n",
              "  .colab-df-quickchart-complete:disabled:hover {\n",
              "    background-color: var(--disabled-bg-color);\n",
              "    fill: var(--disabled-fill-color);\n",
              "    box-shadow: none;\n",
              "  }\n",
              "\n",
              "  .colab-df-spinner {\n",
              "    border: 2px solid var(--fill-color);\n",
              "    border-color: transparent;\n",
              "    border-bottom-color: var(--fill-color);\n",
              "    animation:\n",
              "      spin 1s steps(1) infinite;\n",
              "  }\n",
              "\n",
              "  @keyframes spin {\n",
              "    0% {\n",
              "      border-color: transparent;\n",
              "      border-bottom-color: var(--fill-color);\n",
              "      border-left-color: var(--fill-color);\n",
              "    }\n",
              "    20% {\n",
              "      border-color: transparent;\n",
              "      border-left-color: var(--fill-color);\n",
              "      border-top-color: var(--fill-color);\n",
              "    }\n",
              "    30% {\n",
              "      border-color: transparent;\n",
              "      border-left-color: var(--fill-color);\n",
              "      border-top-color: var(--fill-color);\n",
              "      border-right-color: var(--fill-color);\n",
              "    }\n",
              "    40% {\n",
              "      border-color: transparent;\n",
              "      border-right-color: var(--fill-color);\n",
              "      border-top-color: var(--fill-color);\n",
              "    }\n",
              "    60% {\n",
              "      border-color: transparent;\n",
              "      border-right-color: var(--fill-color);\n",
              "    }\n",
              "    80% {\n",
              "      border-color: transparent;\n",
              "      border-right-color: var(--fill-color);\n",
              "      border-bottom-color: var(--fill-color);\n",
              "    }\n",
              "    90% {\n",
              "      border-color: transparent;\n",
              "      border-bottom-color: var(--fill-color);\n",
              "    }\n",
              "  }\n",
              "</style>\n",
              "\n",
              "      <script>\n",
              "        async function quickchart(key) {\n",
              "          const quickchartButtonEl =\n",
              "            document.querySelector('#' + key + ' button');\n",
              "          quickchartButtonEl.disabled = true;  // To prevent multiple clicks.\n",
              "          quickchartButtonEl.classList.add('colab-df-spinner');\n",
              "          try {\n",
              "            const charts = await google.colab.kernel.invokeFunction(\n",
              "                'suggestCharts', [key], {});\n",
              "          } catch (error) {\n",
              "            console.error('Error during call to suggestCharts:', error);\n",
              "          }\n",
              "          quickchartButtonEl.classList.remove('colab-df-spinner');\n",
              "          quickchartButtonEl.classList.add('colab-df-quickchart-complete');\n",
              "        }\n",
              "        (() => {\n",
              "          let quickchartButtonEl =\n",
              "            document.querySelector('#df-7253e564-068e-47af-b810-49b03194ced5 button');\n",
              "          quickchartButtonEl.style.display =\n",
              "            google.colab.kernel.accessAllowed ? 'block' : 'none';\n",
              "        })();\n",
              "      </script>\n",
              "    </div>\n",
              "\n",
              "    </div>\n",
              "  </div>\n"
            ],
            "application/vnd.google.colaboratory.intrinsic+json": {
              "type": "dataframe",
              "summary": "{\n  \"name\": \"train\",\n  \"rows\": 5,\n  \"fields\": [\n    {\n      \"column\": \"instance_id\",\n      \"properties\": {\n        \"dtype\": \"number\",\n        \"std\": 11603.543906927745,\n        \"min\": 28665.0,\n        \"max\": 59368.0,\n        \"num_unique_values\": 5,\n        \"samples\": [\n          59368.0,\n          42145.0,\n          28665.0\n        ],\n        \"semantic_type\": \"\",\n        \"description\": \"\"\n      }\n    },\n    {\n      \"column\": \"track_name\",\n      \"properties\": {\n        \"dtype\": \"string\",\n        \"num_unique_values\": 5,\n        \"samples\": [\n          \"Backbone\",\n          \"Lazy fo Acre\",\n          \"Jesus Built My Hotrod\"\n        ],\n        \"semantic_type\": \"\",\n        \"description\": \"\"\n      }\n    },\n    {\n      \"column\": \"acousticness\",\n      \"properties\": {\n        \"dtype\": \"number\",\n        \"std\": 0.25978677381027276,\n        \"min\": 4.33e-06,\n        \"max\": 0.679,\n        \"num_unique_values\": 5,\n        \"samples\": [\n          0.1009999999999999,\n          0.223,\n          4.33e-06\n        ],\n        \"semantic_type\": \"\",\n        \"description\": \"\"\n      }\n    },\n    {\n      \"column\": \"danceability\",\n      \"properties\": {\n        \"dtype\": \"number\",\n        \"std\": 0.06643267268445546,\n        \"min\": 0.511,\n        \"max\": 0.6779999999999999,\n        \"num_unique_values\": 5,\n        \"samples\": [\n          0.6779999999999999,\n          0.5589999999999999,\n          0.541\n        ],\n        \"semantic_type\": \"\",\n        \"description\": \"\"\n      }\n    },\n    {\n      \"column\": \"duration_ms\",\n      \"properties\": {\n        \"dtype\": \"number\",\n        \"std\": 87906.86822598107,\n        \"min\": 183270.0,\n        \"max\": 406653.0,\n        \"num_unique_values\": 5,\n        \"samples\": [\n          183270.0,\n          281773.0,\n          292587.0\n        ],\n        \"semantic_type\": \"\",\n        \"description\": \"\"\n      }\n    },\n    {\n      \"column\": \"energy\",\n      \"properties\": {\n        \"dtype\": \"number\",\n        \"std\": 0.1493341889856439,\n        \"min\": 0.534,\n        \"max\": 0.91,\n        \"num_unique_values\": 5,\n        \"samples\": [\n          0.8420000000000001,\n          0.534,\n          0.91\n        ],\n        \"semantic_type\": \"\",\n        \"description\": \"\"\n      }\n    },\n    {\n      \"column\": \"instrumentalness\",\n      \"properties\": {\n        \"dtype\": \"number\",\n        \"std\": 0.38380961165661287,\n        \"min\": 0.0,\n        \"max\": 0.841,\n        \"num_unique_values\": 5,\n        \"samples\": [\n          0.0255,\n          0.0912,\n          0.597\n        ],\n        \"semantic_type\": \"\",\n        \"description\": \"\"\n      }\n    },\n    {\n      \"column\": \"key\",\n      \"properties\": {\n        \"dtype\": \"string\",\n        \"num_unique_values\": 5,\n        \"samples\": [\n          \"B\",\n          \"A\",\n          \"C\"\n        ],\n        \"semantic_type\": \"\",\n        \"description\": \"\"\n      }\n    },\n    {\n      \"column\": \"liveness\",\n      \"properties\": {\n        \"dtype\": \"number\",\n        \"std\": 0.27788576789753017,\n        \"min\": 0.044,\n        \"max\": 0.79,\n        \"num_unique_values\": 5,\n        \"samples\": [\n          0.205,\n          0.355,\n          0.79\n        ],\n        \"semantic_type\": \"\",\n        \"description\": \"\"\n      }\n    },\n    {\n      \"column\": \"loudness\",\n      \"properties\": {\n        \"dtype\": \"number\",\n        \"std\": 2.5920752689688626,\n        \"min\": -11.622,\n        \"max\": -5.114,\n        \"num_unique_values\": 5,\n        \"samples\": [\n          -9.381,\n          -11.622,\n          -5.114\n        ],\n        \"semantic_type\": \"\",\n        \"description\": \"\"\n      }\n    },\n    {\n      \"column\": \"mode\",\n      \"properties\": {\n        \"dtype\": \"category\",\n        \"num_unique_values\": 2,\n        \"samples\": [\n          \"Minor\",\n          \"Major\"\n        ],\n        \"semantic_type\": \"\",\n        \"description\": \"\"\n      }\n    },\n    {\n      \"column\": \"speechiness\",\n      \"properties\": {\n        \"dtype\": \"number\",\n        \"std\": 0.243776120651716,\n        \"min\": 0.0296,\n        \"max\": 0.596,\n        \"num_unique_values\": 5,\n        \"samples\": [\n          0.0296,\n          0.054\n        ],\n        \"semantic_type\": \"\",\n        \"description\": \"\"\n      }\n    },\n    {\n      \"column\": \"tempo\",\n      \"properties\": {\n        \"dtype\": \"number\",\n        \"std\": 24.235799553553004,\n        \"min\": 81.487,\n        \"max\": 143.438,\n        \"num_unique_values\": 5,\n        \"samples\": [\n          136.99,\n          81.487\n        ],\n        \"semantic_type\": \"\",\n        \"description\": \"\"\n      }\n    },\n    {\n      \"column\": \"obtained_date\",\n      \"properties\": {\n        \"dtype\": \"category\",\n        \"num_unique_values\": 2,\n        \"samples\": [\n          \"3-Apr\",\n          \"4-Apr\"\n        ],\n        \"semantic_type\": \"\",\n        \"description\": \"\"\n      }\n    },\n    {\n      \"column\": \"valence\",\n      \"properties\": {\n        \"dtype\": \"number\",\n        \"std\": 0.15374394297012162,\n        \"min\": 0.397,\n        \"max\": 0.775,\n        \"num_unique_values\": 5,\n        \"samples\": [\n          0.7070000000000001,\n          0.525\n        ],\n        \"semantic_type\": \"\",\n        \"description\": \"\"\n      }\n    },\n    {\n      \"column\": \"music_genre\",\n      \"properties\": {\n        \"dtype\": \"string\",\n        \"num_unique_values\": 4,\n        \"samples\": [\n          \"Blues\",\n          \"Country\"\n        ],\n        \"semantic_type\": \"\",\n        \"description\": \"\"\n      }\n    }\n  ]\n}"
            }
          },
          "metadata": {},
          "execution_count": 48
        }
      ],
      "source": [
        "train.sample(5)"
      ]
    },
    {
      "cell_type": "markdown",
      "metadata": {
        "id": "SiKqp1lxOs_y"
      },
      "source": [
        "**Описание полей данных**\n",
        "\n",
        "`instance_id` - уникальный идентификатор трека  \n",
        "`track_name` - название трека  \n",
        "`acousticness` - акустичность  \n",
        "`danceability` - танцевальность  \n",
        "`duration_ms` -продолжительность в милисекундах  \n",
        "`energy` - энергичность  \n",
        "`instrumentalness` - инструментальность  \n",
        "`key` - тональность  \n",
        "`liveness` - привлекательность  \n",
        "`loudness` - громкость  \n",
        "`mode` - наклонение  \n",
        "`speechiness` - выразительность  \n",
        "`tempo` - темп  \n",
        "`obtained_date` - дата загрузки в сервис  \n",
        "`valence` - привлекательность произведения для пользователей сервиса  \n",
        "`music_genre` - музыкальный жанр"
      ]
    },
    {
      "cell_type": "markdown",
      "metadata": {
        "id": "ISIPhbS3RD3f"
      },
      "source": [
        "## Предварительная обработка данных"
      ]
    },
    {
      "cell_type": "code",
      "source": [
        "train.head()"
      ],
      "metadata": {
        "id": "k-7r-wHPkKoc",
        "colab": {
          "base_uri": "https://localhost:8080/",
          "height": 313
        },
        "outputId": "9e898226-68d2-44ae-e28e-0a8657b262c0"
      },
      "execution_count": 49,
      "outputs": [
        {
          "output_type": "execute_result",
          "data": {
            "text/plain": [
              "   instance_id                  track_name  acousticness  danceability  \\\n",
              "0      25143.0                  Highwayman        0.4800         0.670   \n",
              "1      26091.0       Toes Across The Floor        0.2430         0.452   \n",
              "2      87888.0       First Person on Earth        0.2280         0.454   \n",
              "3      77021.0  No Te Veo - Digital Single        0.0558         0.847   \n",
              "4      20852.0             Chasing Shadows        0.2270         0.742   \n",
              "\n",
              "   duration_ms  energy  instrumentalness key  liveness  loudness   mode  \\\n",
              "0     182653.0   0.351          0.017600   D     0.115   -16.842  Major   \n",
              "1     187133.0   0.670          0.000051   A     0.108    -8.392  Minor   \n",
              "2     173448.0   0.804          0.000000   E     0.181    -5.225  Minor   \n",
              "3     255987.0   0.873          0.000003  G#     0.325    -4.805  Minor   \n",
              "4     195333.0   0.575          0.000002   C     0.176    -5.550  Major   \n",
              "\n",
              "   speechiness    tempo obtained_date  valence  music_genre  \n",
              "0       0.0463  101.384         4-Apr    0.450      Country  \n",
              "1       0.0352  113.071         4-Apr    0.539         Rock  \n",
              "2       0.3710   80.980         4-Apr    0.344  Alternative  \n",
              "3       0.0804  116.007         4-Apr    0.966      Hip-Hop  \n",
              "4       0.0487   76.494         4-Apr    0.583  Alternative  "
            ],
            "text/html": [
              "\n",
              "  <div id=\"df-f90a7b70-36e7-4930-bee7-a7a8bfb223b1\" class=\"colab-df-container\">\n",
              "    <div>\n",
              "<style scoped>\n",
              "    .dataframe tbody tr th:only-of-type {\n",
              "        vertical-align: middle;\n",
              "    }\n",
              "\n",
              "    .dataframe tbody tr th {\n",
              "        vertical-align: top;\n",
              "    }\n",
              "\n",
              "    .dataframe thead th {\n",
              "        text-align: right;\n",
              "    }\n",
              "</style>\n",
              "<table border=\"1\" class=\"dataframe\">\n",
              "  <thead>\n",
              "    <tr style=\"text-align: right;\">\n",
              "      <th></th>\n",
              "      <th>instance_id</th>\n",
              "      <th>track_name</th>\n",
              "      <th>acousticness</th>\n",
              "      <th>danceability</th>\n",
              "      <th>duration_ms</th>\n",
              "      <th>energy</th>\n",
              "      <th>instrumentalness</th>\n",
              "      <th>key</th>\n",
              "      <th>liveness</th>\n",
              "      <th>loudness</th>\n",
              "      <th>mode</th>\n",
              "      <th>speechiness</th>\n",
              "      <th>tempo</th>\n",
              "      <th>obtained_date</th>\n",
              "      <th>valence</th>\n",
              "      <th>music_genre</th>\n",
              "    </tr>\n",
              "  </thead>\n",
              "  <tbody>\n",
              "    <tr>\n",
              "      <th>0</th>\n",
              "      <td>25143.0</td>\n",
              "      <td>Highwayman</td>\n",
              "      <td>0.4800</td>\n",
              "      <td>0.670</td>\n",
              "      <td>182653.0</td>\n",
              "      <td>0.351</td>\n",
              "      <td>0.017600</td>\n",
              "      <td>D</td>\n",
              "      <td>0.115</td>\n",
              "      <td>-16.842</td>\n",
              "      <td>Major</td>\n",
              "      <td>0.0463</td>\n",
              "      <td>101.384</td>\n",
              "      <td>4-Apr</td>\n",
              "      <td>0.450</td>\n",
              "      <td>Country</td>\n",
              "    </tr>\n",
              "    <tr>\n",
              "      <th>1</th>\n",
              "      <td>26091.0</td>\n",
              "      <td>Toes Across The Floor</td>\n",
              "      <td>0.2430</td>\n",
              "      <td>0.452</td>\n",
              "      <td>187133.0</td>\n",
              "      <td>0.670</td>\n",
              "      <td>0.000051</td>\n",
              "      <td>A</td>\n",
              "      <td>0.108</td>\n",
              "      <td>-8.392</td>\n",
              "      <td>Minor</td>\n",
              "      <td>0.0352</td>\n",
              "      <td>113.071</td>\n",
              "      <td>4-Apr</td>\n",
              "      <td>0.539</td>\n",
              "      <td>Rock</td>\n",
              "    </tr>\n",
              "    <tr>\n",
              "      <th>2</th>\n",
              "      <td>87888.0</td>\n",
              "      <td>First Person on Earth</td>\n",
              "      <td>0.2280</td>\n",
              "      <td>0.454</td>\n",
              "      <td>173448.0</td>\n",
              "      <td>0.804</td>\n",
              "      <td>0.000000</td>\n",
              "      <td>E</td>\n",
              "      <td>0.181</td>\n",
              "      <td>-5.225</td>\n",
              "      <td>Minor</td>\n",
              "      <td>0.3710</td>\n",
              "      <td>80.980</td>\n",
              "      <td>4-Apr</td>\n",
              "      <td>0.344</td>\n",
              "      <td>Alternative</td>\n",
              "    </tr>\n",
              "    <tr>\n",
              "      <th>3</th>\n",
              "      <td>77021.0</td>\n",
              "      <td>No Te Veo - Digital Single</td>\n",
              "      <td>0.0558</td>\n",
              "      <td>0.847</td>\n",
              "      <td>255987.0</td>\n",
              "      <td>0.873</td>\n",
              "      <td>0.000003</td>\n",
              "      <td>G#</td>\n",
              "      <td>0.325</td>\n",
              "      <td>-4.805</td>\n",
              "      <td>Minor</td>\n",
              "      <td>0.0804</td>\n",
              "      <td>116.007</td>\n",
              "      <td>4-Apr</td>\n",
              "      <td>0.966</td>\n",
              "      <td>Hip-Hop</td>\n",
              "    </tr>\n",
              "    <tr>\n",
              "      <th>4</th>\n",
              "      <td>20852.0</td>\n",
              "      <td>Chasing Shadows</td>\n",
              "      <td>0.2270</td>\n",
              "      <td>0.742</td>\n",
              "      <td>195333.0</td>\n",
              "      <td>0.575</td>\n",
              "      <td>0.000002</td>\n",
              "      <td>C</td>\n",
              "      <td>0.176</td>\n",
              "      <td>-5.550</td>\n",
              "      <td>Major</td>\n",
              "      <td>0.0487</td>\n",
              "      <td>76.494</td>\n",
              "      <td>4-Apr</td>\n",
              "      <td>0.583</td>\n",
              "      <td>Alternative</td>\n",
              "    </tr>\n",
              "  </tbody>\n",
              "</table>\n",
              "</div>\n",
              "    <div class=\"colab-df-buttons\">\n",
              "\n",
              "  <div class=\"colab-df-container\">\n",
              "    <button class=\"colab-df-convert\" onclick=\"convertToInteractive('df-f90a7b70-36e7-4930-bee7-a7a8bfb223b1')\"\n",
              "            title=\"Convert this dataframe to an interactive table.\"\n",
              "            style=\"display:none;\">\n",
              "\n",
              "  <svg xmlns=\"http://www.w3.org/2000/svg\" height=\"24px\" viewBox=\"0 -960 960 960\">\n",
              "    <path d=\"M120-120v-720h720v720H120Zm60-500h600v-160H180v160Zm220 220h160v-160H400v160Zm0 220h160v-160H400v160ZM180-400h160v-160H180v160Zm440 0h160v-160H620v160ZM180-180h160v-160H180v160Zm440 0h160v-160H620v160Z\"/>\n",
              "  </svg>\n",
              "    </button>\n",
              "\n",
              "  <style>\n",
              "    .colab-df-container {\n",
              "      display:flex;\n",
              "      gap: 12px;\n",
              "    }\n",
              "\n",
              "    .colab-df-convert {\n",
              "      background-color: #E8F0FE;\n",
              "      border: none;\n",
              "      border-radius: 50%;\n",
              "      cursor: pointer;\n",
              "      display: none;\n",
              "      fill: #1967D2;\n",
              "      height: 32px;\n",
              "      padding: 0 0 0 0;\n",
              "      width: 32px;\n",
              "    }\n",
              "\n",
              "    .colab-df-convert:hover {\n",
              "      background-color: #E2EBFA;\n",
              "      box-shadow: 0px 1px 2px rgba(60, 64, 67, 0.3), 0px 1px 3px 1px rgba(60, 64, 67, 0.15);\n",
              "      fill: #174EA6;\n",
              "    }\n",
              "\n",
              "    .colab-df-buttons div {\n",
              "      margin-bottom: 4px;\n",
              "    }\n",
              "\n",
              "    [theme=dark] .colab-df-convert {\n",
              "      background-color: #3B4455;\n",
              "      fill: #D2E3FC;\n",
              "    }\n",
              "\n",
              "    [theme=dark] .colab-df-convert:hover {\n",
              "      background-color: #434B5C;\n",
              "      box-shadow: 0px 1px 3px 1px rgba(0, 0, 0, 0.15);\n",
              "      filter: drop-shadow(0px 1px 2px rgba(0, 0, 0, 0.3));\n",
              "      fill: #FFFFFF;\n",
              "    }\n",
              "  </style>\n",
              "\n",
              "    <script>\n",
              "      const buttonEl =\n",
              "        document.querySelector('#df-f90a7b70-36e7-4930-bee7-a7a8bfb223b1 button.colab-df-convert');\n",
              "      buttonEl.style.display =\n",
              "        google.colab.kernel.accessAllowed ? 'block' : 'none';\n",
              "\n",
              "      async function convertToInteractive(key) {\n",
              "        const element = document.querySelector('#df-f90a7b70-36e7-4930-bee7-a7a8bfb223b1');\n",
              "        const dataTable =\n",
              "          await google.colab.kernel.invokeFunction('convertToInteractive',\n",
              "                                                    [key], {});\n",
              "        if (!dataTable) return;\n",
              "\n",
              "        const docLinkHtml = 'Like what you see? Visit the ' +\n",
              "          '<a target=\"_blank\" href=https://colab.research.google.com/notebooks/data_table.ipynb>data table notebook</a>'\n",
              "          + ' to learn more about interactive tables.';\n",
              "        element.innerHTML = '';\n",
              "        dataTable['output_type'] = 'display_data';\n",
              "        await google.colab.output.renderOutput(dataTable, element);\n",
              "        const docLink = document.createElement('div');\n",
              "        docLink.innerHTML = docLinkHtml;\n",
              "        element.appendChild(docLink);\n",
              "      }\n",
              "    </script>\n",
              "  </div>\n",
              "\n",
              "\n",
              "    <div id=\"df-cc9fb388-529b-483a-b6b4-7bca5b4714f3\">\n",
              "      <button class=\"colab-df-quickchart\" onclick=\"quickchart('df-cc9fb388-529b-483a-b6b4-7bca5b4714f3')\"\n",
              "                title=\"Suggest charts\"\n",
              "                style=\"display:none;\">\n",
              "\n",
              "<svg xmlns=\"http://www.w3.org/2000/svg\" height=\"24px\"viewBox=\"0 0 24 24\"\n",
              "     width=\"24px\">\n",
              "    <g>\n",
              "        <path d=\"M19 3H5c-1.1 0-2 .9-2 2v14c0 1.1.9 2 2 2h14c1.1 0 2-.9 2-2V5c0-1.1-.9-2-2-2zM9 17H7v-7h2v7zm4 0h-2V7h2v10zm4 0h-2v-4h2v4z\"/>\n",
              "    </g>\n",
              "</svg>\n",
              "      </button>\n",
              "\n",
              "<style>\n",
              "  .colab-df-quickchart {\n",
              "      --bg-color: #E8F0FE;\n",
              "      --fill-color: #1967D2;\n",
              "      --hover-bg-color: #E2EBFA;\n",
              "      --hover-fill-color: #174EA6;\n",
              "      --disabled-fill-color: #AAA;\n",
              "      --disabled-bg-color: #DDD;\n",
              "  }\n",
              "\n",
              "  [theme=dark] .colab-df-quickchart {\n",
              "      --bg-color: #3B4455;\n",
              "      --fill-color: #D2E3FC;\n",
              "      --hover-bg-color: #434B5C;\n",
              "      --hover-fill-color: #FFFFFF;\n",
              "      --disabled-bg-color: #3B4455;\n",
              "      --disabled-fill-color: #666;\n",
              "  }\n",
              "\n",
              "  .colab-df-quickchart {\n",
              "    background-color: var(--bg-color);\n",
              "    border: none;\n",
              "    border-radius: 50%;\n",
              "    cursor: pointer;\n",
              "    display: none;\n",
              "    fill: var(--fill-color);\n",
              "    height: 32px;\n",
              "    padding: 0;\n",
              "    width: 32px;\n",
              "  }\n",
              "\n",
              "  .colab-df-quickchart:hover {\n",
              "    background-color: var(--hover-bg-color);\n",
              "    box-shadow: 0 1px 2px rgba(60, 64, 67, 0.3), 0 1px 3px 1px rgba(60, 64, 67, 0.15);\n",
              "    fill: var(--button-hover-fill-color);\n",
              "  }\n",
              "\n",
              "  .colab-df-quickchart-complete:disabled,\n",
              "  .colab-df-quickchart-complete:disabled:hover {\n",
              "    background-color: var(--disabled-bg-color);\n",
              "    fill: var(--disabled-fill-color);\n",
              "    box-shadow: none;\n",
              "  }\n",
              "\n",
              "  .colab-df-spinner {\n",
              "    border: 2px solid var(--fill-color);\n",
              "    border-color: transparent;\n",
              "    border-bottom-color: var(--fill-color);\n",
              "    animation:\n",
              "      spin 1s steps(1) infinite;\n",
              "  }\n",
              "\n",
              "  @keyframes spin {\n",
              "    0% {\n",
              "      border-color: transparent;\n",
              "      border-bottom-color: var(--fill-color);\n",
              "      border-left-color: var(--fill-color);\n",
              "    }\n",
              "    20% {\n",
              "      border-color: transparent;\n",
              "      border-left-color: var(--fill-color);\n",
              "      border-top-color: var(--fill-color);\n",
              "    }\n",
              "    30% {\n",
              "      border-color: transparent;\n",
              "      border-left-color: var(--fill-color);\n",
              "      border-top-color: var(--fill-color);\n",
              "      border-right-color: var(--fill-color);\n",
              "    }\n",
              "    40% {\n",
              "      border-color: transparent;\n",
              "      border-right-color: var(--fill-color);\n",
              "      border-top-color: var(--fill-color);\n",
              "    }\n",
              "    60% {\n",
              "      border-color: transparent;\n",
              "      border-right-color: var(--fill-color);\n",
              "    }\n",
              "    80% {\n",
              "      border-color: transparent;\n",
              "      border-right-color: var(--fill-color);\n",
              "      border-bottom-color: var(--fill-color);\n",
              "    }\n",
              "    90% {\n",
              "      border-color: transparent;\n",
              "      border-bottom-color: var(--fill-color);\n",
              "    }\n",
              "  }\n",
              "</style>\n",
              "\n",
              "      <script>\n",
              "        async function quickchart(key) {\n",
              "          const quickchartButtonEl =\n",
              "            document.querySelector('#' + key + ' button');\n",
              "          quickchartButtonEl.disabled = true;  // To prevent multiple clicks.\n",
              "          quickchartButtonEl.classList.add('colab-df-spinner');\n",
              "          try {\n",
              "            const charts = await google.colab.kernel.invokeFunction(\n",
              "                'suggestCharts', [key], {});\n",
              "          } catch (error) {\n",
              "            console.error('Error during call to suggestCharts:', error);\n",
              "          }\n",
              "          quickchartButtonEl.classList.remove('colab-df-spinner');\n",
              "          quickchartButtonEl.classList.add('colab-df-quickchart-complete');\n",
              "        }\n",
              "        (() => {\n",
              "          let quickchartButtonEl =\n",
              "            document.querySelector('#df-cc9fb388-529b-483a-b6b4-7bca5b4714f3 button');\n",
              "          quickchartButtonEl.style.display =\n",
              "            google.colab.kernel.accessAllowed ? 'block' : 'none';\n",
              "        })();\n",
              "      </script>\n",
              "    </div>\n",
              "\n",
              "    </div>\n",
              "  </div>\n"
            ],
            "application/vnd.google.colaboratory.intrinsic+json": {
              "type": "dataframe",
              "variable_name": "train",
              "summary": "{\n  \"name\": \"train\",\n  \"rows\": 20394,\n  \"fields\": [\n    {\n      \"column\": \"instance_id\",\n      \"properties\": {\n        \"dtype\": \"number\",\n        \"std\": 20695.79254487884,\n        \"min\": 20011.0,\n        \"max\": 91758.0,\n        \"num_unique_values\": 20394,\n        \"samples\": [\n          75850.0,\n          67409.0,\n          54076.0\n        ],\n        \"semantic_type\": \"\",\n        \"description\": \"\"\n      }\n    },\n    {\n      \"column\": \"track_name\",\n      \"properties\": {\n        \"dtype\": \"string\",\n        \"num_unique_values\": 18643,\n        \"samples\": [\n          \"Change On Me (feat. Leuca)\",\n          \"\\u7b11\\u9854\\u306e\\u30eb\\u30fc\\u30d7\",\n          \"Thinking Of\"\n        ],\n        \"semantic_type\": \"\",\n        \"description\": \"\"\n      }\n    },\n    {\n      \"column\": \"acousticness\",\n      \"properties\": {\n        \"dtype\": \"number\",\n        \"std\": 0.32164334724527216,\n        \"min\": 0.0,\n        \"max\": 0.996,\n        \"num_unique_values\": 3616,\n        \"samples\": [\n          0.0897,\n          0.792,\n          0.00417\n        ],\n        \"semantic_type\": \"\",\n        \"description\": \"\"\n      }\n    },\n    {\n      \"column\": \"danceability\",\n      \"properties\": {\n        \"dtype\": \"number\",\n        \"std\": 0.17189757196659972,\n        \"min\": 0.06,\n        \"max\": 0.978,\n        \"num_unique_values\": 950,\n        \"samples\": [\n          0.435,\n          0.1169999999999999,\n          0.152\n        ],\n        \"semantic_type\": \"\",\n        \"description\": \"\"\n      }\n    },\n    {\n      \"column\": \"duration_ms\",\n      \"properties\": {\n        \"dtype\": \"number\",\n        \"std\": 126728.32614223416,\n        \"min\": -1.0,\n        \"max\": 4497994.0,\n        \"num_unique_values\": 13649,\n        \"samples\": [\n          267959.0,\n          307880.0,\n          211507.0\n        ],\n        \"semantic_type\": \"\",\n        \"description\": \"\"\n      }\n    },\n    {\n      \"column\": \"energy\",\n      \"properties\": {\n        \"dtype\": \"number\",\n        \"std\": 0.25123765460349107,\n        \"min\": 0.00101,\n        \"max\": 0.999,\n        \"num_unique_values\": 1521,\n        \"samples\": [\n          0.604,\n          0.181,\n          0.00627\n        ],\n        \"semantic_type\": \"\",\n        \"description\": \"\"\n      }\n    },\n    {\n      \"column\": \"instrumentalness\",\n      \"properties\": {\n        \"dtype\": \"number\",\n        \"std\": 0.3065028391822661,\n        \"min\": 0.0,\n        \"max\": 0.996,\n        \"num_unique_values\": 4360,\n        \"samples\": [\n          4.04e-05,\n          9.29e-06,\n          9.35e-05\n        ],\n        \"semantic_type\": \"\",\n        \"description\": \"\"\n      }\n    },\n    {\n      \"column\": \"key\",\n      \"properties\": {\n        \"dtype\": \"category\",\n        \"num_unique_values\": 12,\n        \"samples\": [\n          \"C#\",\n          \"G\",\n          \"D\"\n        ],\n        \"semantic_type\": \"\",\n        \"description\": \"\"\n      }\n    },\n    {\n      \"column\": \"liveness\",\n      \"properties\": {\n        \"dtype\": \"number\",\n        \"std\": 0.16674243092650232,\n        \"min\": 0.0136,\n        \"max\": 1.0,\n        \"num_unique_values\": 1521,\n        \"samples\": [\n          0.0597,\n          0.664,\n          0.526\n        ],\n        \"semantic_type\": \"\",\n        \"description\": \"\"\n      }\n    },\n    {\n      \"column\": \"loudness\",\n      \"properties\": {\n        \"dtype\": \"number\",\n        \"std\": 5.4999166342113295,\n        \"min\": -44.406000000000006,\n        \"max\": 3.744,\n        \"num_unique_values\": 10844,\n        \"samples\": [\n          -3.782,\n          -7.723,\n          -16.977\n        ],\n        \"semantic_type\": \"\",\n        \"description\": \"\"\n      }\n    },\n    {\n      \"column\": \"mode\",\n      \"properties\": {\n        \"dtype\": \"category\",\n        \"num_unique_values\": 2,\n        \"samples\": [\n          \"Minor\",\n          \"Major\"\n        ],\n        \"semantic_type\": \"\",\n        \"description\": \"\"\n      }\n    },\n    {\n      \"column\": \"speechiness\",\n      \"properties\": {\n        \"dtype\": \"number\",\n        \"std\": 0.09773515688792143,\n        \"min\": 0.0223,\n        \"max\": 0.942,\n        \"num_unique_values\": 1243,\n        \"samples\": [\n          0.0256,\n          0.0625\n        ],\n        \"semantic_type\": \"\",\n        \"description\": \"\"\n      }\n    },\n    {\n      \"column\": \"tempo\",\n      \"properties\": {\n        \"dtype\": \"number\",\n        \"std\": 30.42758970460875,\n        \"min\": 34.765,\n        \"max\": 220.041,\n        \"num_unique_values\": 15762,\n        \"samples\": [\n          95.021,\n          153.83100000000002\n        ],\n        \"semantic_type\": \"\",\n        \"description\": \"\"\n      }\n    },\n    {\n      \"column\": \"obtained_date\",\n      \"properties\": {\n        \"dtype\": \"category\",\n        \"num_unique_values\": 4,\n        \"samples\": [\n          \"3-Apr\",\n          \"1-Apr\"\n        ],\n        \"semantic_type\": \"\",\n        \"description\": \"\"\n      }\n    },\n    {\n      \"column\": \"valence\",\n      \"properties\": {\n        \"dtype\": \"number\",\n        \"std\": 0.24338678887671936,\n        \"min\": 0.0,\n        \"max\": 0.992,\n        \"num_unique_values\": 1454,\n        \"samples\": [\n          0.7659999999999999,\n          0.0644\n        ],\n        \"semantic_type\": \"\",\n        \"description\": \"\"\n      }\n    },\n    {\n      \"column\": \"music_genre\",\n      \"properties\": {\n        \"dtype\": \"category\",\n        \"num_unique_values\": 10,\n        \"samples\": [\n          \"Rap\",\n          \"Rock\"\n        ],\n        \"semantic_type\": \"\",\n        \"description\": \"\"\n      }\n    }\n  ]\n}"
            }
          },
          "metadata": {},
          "execution_count": 49
        }
      ]
    },
    {
      "cell_type": "code",
      "source": [
        "train.isnull().sum()"
      ],
      "metadata": {
        "colab": {
          "base_uri": "https://localhost:8080/",
          "height": 585
        },
        "id": "LGlK_wx38Wos",
        "outputId": "9f3a4ef2-ea32-4ce9-de0e-3915c8cc8c3d"
      },
      "execution_count": 37,
      "outputs": [
        {
          "output_type": "execute_result",
          "data": {
            "text/plain": [
              "instance_id           0\n",
              "track_name            0\n",
              "acousticness          0\n",
              "danceability          0\n",
              "duration_ms           0\n",
              "energy                0\n",
              "instrumentalness      0\n",
              "key                 735\n",
              "liveness              0\n",
              "loudness              0\n",
              "mode                506\n",
              "speechiness           0\n",
              "tempo               442\n",
              "obtained_date         0\n",
              "valence               0\n",
              "music_genre           0\n",
              "dtype: int64"
            ],
            "text/html": [
              "<div>\n",
              "<style scoped>\n",
              "    .dataframe tbody tr th:only-of-type {\n",
              "        vertical-align: middle;\n",
              "    }\n",
              "\n",
              "    .dataframe tbody tr th {\n",
              "        vertical-align: top;\n",
              "    }\n",
              "\n",
              "    .dataframe thead th {\n",
              "        text-align: right;\n",
              "    }\n",
              "</style>\n",
              "<table border=\"1\" class=\"dataframe\">\n",
              "  <thead>\n",
              "    <tr style=\"text-align: right;\">\n",
              "      <th></th>\n",
              "      <th>0</th>\n",
              "    </tr>\n",
              "  </thead>\n",
              "  <tbody>\n",
              "    <tr>\n",
              "      <th>instance_id</th>\n",
              "      <td>0</td>\n",
              "    </tr>\n",
              "    <tr>\n",
              "      <th>track_name</th>\n",
              "      <td>0</td>\n",
              "    </tr>\n",
              "    <tr>\n",
              "      <th>acousticness</th>\n",
              "      <td>0</td>\n",
              "    </tr>\n",
              "    <tr>\n",
              "      <th>danceability</th>\n",
              "      <td>0</td>\n",
              "    </tr>\n",
              "    <tr>\n",
              "      <th>duration_ms</th>\n",
              "      <td>0</td>\n",
              "    </tr>\n",
              "    <tr>\n",
              "      <th>energy</th>\n",
              "      <td>0</td>\n",
              "    </tr>\n",
              "    <tr>\n",
              "      <th>instrumentalness</th>\n",
              "      <td>0</td>\n",
              "    </tr>\n",
              "    <tr>\n",
              "      <th>key</th>\n",
              "      <td>735</td>\n",
              "    </tr>\n",
              "    <tr>\n",
              "      <th>liveness</th>\n",
              "      <td>0</td>\n",
              "    </tr>\n",
              "    <tr>\n",
              "      <th>loudness</th>\n",
              "      <td>0</td>\n",
              "    </tr>\n",
              "    <tr>\n",
              "      <th>mode</th>\n",
              "      <td>506</td>\n",
              "    </tr>\n",
              "    <tr>\n",
              "      <th>speechiness</th>\n",
              "      <td>0</td>\n",
              "    </tr>\n",
              "    <tr>\n",
              "      <th>tempo</th>\n",
              "      <td>442</td>\n",
              "    </tr>\n",
              "    <tr>\n",
              "      <th>obtained_date</th>\n",
              "      <td>0</td>\n",
              "    </tr>\n",
              "    <tr>\n",
              "      <th>valence</th>\n",
              "      <td>0</td>\n",
              "    </tr>\n",
              "    <tr>\n",
              "      <th>music_genre</th>\n",
              "      <td>0</td>\n",
              "    </tr>\n",
              "  </tbody>\n",
              "</table>\n",
              "</div><br><label><b>dtype:</b> int64</label>"
            ]
          },
          "metadata": {},
          "execution_count": 37
        }
      ]
    },
    {
      "cell_type": "code",
      "source": [
        "train['key'] = train['key'].apply(lambda x: str(x).replace('#', '') if pd.notna(x) else 0)"
      ],
      "metadata": {
        "id": "GmMSecsbBg0S"
      },
      "execution_count": 50,
      "outputs": []
    },
    {
      "cell_type": "code",
      "source": [
        "train['key'].unique()"
      ],
      "metadata": {
        "id": "wjdDcIPXjovn",
        "colab": {
          "base_uri": "https://localhost:8080/"
        },
        "outputId": "5969618e-7a29-4a6e-b1b2-449870cf11b3"
      },
      "execution_count": 51,
      "outputs": [
        {
          "output_type": "execute_result",
          "data": {
            "text/plain": [
              "array(['D', 'A', 'E', 'G', 'C', 'F', 0, 'B'], dtype=object)"
            ]
          },
          "metadata": {},
          "execution_count": 51
        }
      ]
    },
    {
      "cell_type": "code",
      "source": [
        "train['mode'].unique()"
      ],
      "metadata": {
        "colab": {
          "base_uri": "https://localhost:8080/"
        },
        "id": "dItmnyF1Gv0T",
        "outputId": "e27f5d36-c11b-4af8-d932-d17a4573de38"
      },
      "execution_count": 52,
      "outputs": [
        {
          "output_type": "execute_result",
          "data": {
            "text/plain": [
              "array(['Major', 'Minor', nan], dtype=object)"
            ]
          },
          "metadata": {},
          "execution_count": 52
        }
      ]
    },
    {
      "cell_type": "code",
      "source": [
        "train['tempo'].unique()"
      ],
      "metadata": {
        "colab": {
          "base_uri": "https://localhost:8080/"
        },
        "id": "StxZSQcEG7ym",
        "outputId": "4ad9861b-e882-4955-cd7e-bc4d76ccfc52"
      },
      "execution_count": 68,
      "outputs": [
        {
          "output_type": "execute_result",
          "data": {
            "text/plain": [
              "array([101.384, 113.071,  80.98 , ...,  87.413,  76.879, 146.803])"
            ]
          },
          "metadata": {},
          "execution_count": 68
        }
      ]
    },
    {
      "cell_type": "markdown",
      "source": [
        "## Разведочный анализ"
      ],
      "metadata": {
        "id": "C1n43JFuj8A4"
      }
    },
    {
      "cell_type": "code",
      "source": [],
      "metadata": {
        "id": "XZkWuz5PkJKz"
      },
      "execution_count": null,
      "outputs": []
    },
    {
      "cell_type": "code",
      "source": [],
      "metadata": {
        "id": "wH49XeKmkJAk"
      },
      "execution_count": null,
      "outputs": []
    },
    {
      "cell_type": "markdown",
      "source": [
        "## Работа с признаками"
      ],
      "metadata": {
        "id": "8jjLU6LfkEXo"
      }
    },
    {
      "cell_type": "code",
      "source": [],
      "metadata": {
        "id": "04rnC4ZNkH-W"
      },
      "execution_count": null,
      "outputs": []
    },
    {
      "cell_type": "code",
      "source": [],
      "metadata": {
        "id": "-4pQ7uzFkH0p"
      },
      "execution_count": null,
      "outputs": []
    },
    {
      "cell_type": "markdown",
      "metadata": {
        "id": "Z8q5tYgLRXxB"
      },
      "source": [
        "## Выбор и обучение моделей"
      ]
    },
    {
      "cell_type": "code",
      "source": [],
      "metadata": {
        "id": "j1RiZZM1kJsA"
      },
      "execution_count": null,
      "outputs": []
    },
    {
      "cell_type": "code",
      "source": [],
      "metadata": {
        "id": "lpM7aKb8jq-M"
      },
      "execution_count": null,
      "outputs": []
    },
    {
      "cell_type": "markdown",
      "metadata": {
        "id": "DKCtMvNlR5sf"
      },
      "source": [
        "## Оценка качества"
      ]
    },
    {
      "cell_type": "code",
      "source": [],
      "metadata": {
        "id": "mNu1Q_l_kKEf"
      },
      "execution_count": null,
      "outputs": []
    },
    {
      "cell_type": "code",
      "source": [],
      "metadata": {
        "id": "hauX4570jumC"
      },
      "execution_count": null,
      "outputs": []
    },
    {
      "cell_type": "markdown",
      "source": [
        "## Анализ важности признаков модели"
      ],
      "metadata": {
        "id": "xym1_x6Alo8o"
      }
    },
    {
      "cell_type": "code",
      "source": [],
      "metadata": {
        "id": "QVoP-8_IlsS0"
      },
      "execution_count": null,
      "outputs": []
    },
    {
      "cell_type": "code",
      "source": [],
      "metadata": {
        "id": "JkoTDfxfmJuo"
      },
      "execution_count": null,
      "outputs": []
    }
  ],
  "metadata": {
    "colab": {
      "provenance": [],
      "include_colab_link": true
    },
    "kernelspec": {
      "display_name": "Python 3 (ipykernel)",
      "language": "python",
      "name": "python3"
    },
    "language_info": {
      "codemirror_mode": {
        "name": "ipython",
        "version": 3
      },
      "file_extension": ".py",
      "mimetype": "text/x-python",
      "name": "python",
      "nbconvert_exporter": "python",
      "pygments_lexer": "ipython3",
      "version": "3.8.12"
    },
    "toc": {
      "base_numbering": 1,
      "nav_menu": {},
      "number_sections": true,
      "sideBar": true,
      "skip_h1_title": true,
      "title_cell": "Table of Contents",
      "title_sidebar": "Contents",
      "toc_cell": false,
      "toc_position": {},
      "toc_section_display": true,
      "toc_window_display": false
    }
  },
  "nbformat": 4,
  "nbformat_minor": 0
}